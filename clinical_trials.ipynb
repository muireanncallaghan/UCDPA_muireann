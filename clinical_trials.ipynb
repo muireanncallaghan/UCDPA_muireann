{
 "cells": [
  {
   "cell_type": "code",
   "execution_count": 1,
   "id": "98b98de0-5136-4ce0-af2c-0df94b4488b9",
   "metadata": {},
   "outputs": [],
   "source": [
    "#Import pandas for dataframes as pd\n",
    "import pandas as pd\n",
    "\n",
    "#Import datetime module for manipulating dates and times as dt\n",
    "import datetime as dt\n",
    "\n",
    "#Import request to allow for connections to APIs\n",
    "import requests\n",
    "\n",
    "#Import json package\n",
    "import json\n",
    "\n",
    "#Import NumPy for basic statistics\n",
    "import numpy as np\n",
    "\n",
    "#Import matplotlib for visualisations\n",
    "from matplotlib import pyplot as plt"
   ]
  },
  {
   "cell_type": "code",
   "execution_count": 2,
   "id": "f1dccc8c-796f-4ebd-a1f7-4ece941e89df",
   "metadata": {},
   "outputs": [],
   "source": [
    "#Obtaining data from clinicaltrials.gov API (in two parts due to API restrictions)\n",
    "url_1 = 'https://clinicaltrials.gov/api/query/study_fields?expr=AREA[StudyType]Interventional+AREA[OverallStatus]Completed+AREA[HealthyVolunteers]No+AREA[PrimaryCompletionDate]RANGE[01/01/2013,%20MAX]&min_rnk=1&max_rnk=1000&fmt=JSON&fields=NCTId,BriefTitle,LeadSponsorClass,EnrollmentCount,StartDate,PrimaryCompletionDate'\n",
    "url_2 = 'https://clinicaltrials.gov/api/query/study_fields?expr=AREA[StudyType]Interventional+AREA[OverallStatus]Completed+AREA[HealthyVolunteers]No+AREA[PrimaryCompletionDate]RANGE[01/01/2013,%20MAX]&min_rnk=1001&max_rnk=2000&fmt=JSON&fields=NCTId,BriefTitle,LeadSponsorClass,EnrollmentCount,StartDate,PrimaryCompletionDate'\n",
    "r_1 = requests.get(url_1)\n",
    "r_2 = requests.get(url_2)\n",
    "json_data_1 = r_1.json()\n",
    "json_data_2 = r_2.json()"
   ]
  },
  {
   "cell_type": "code",
   "execution_count": 3,
   "id": "76f8031a-6fbf-4cb5-892e-5e20bd9bcf56",
   "metadata": {},
   "outputs": [
    {
     "name": "stdout",
     "output_type": "stream",
     "text": [
      "<class 'dict'>\n",
      "dict_keys(['StudyFieldsResponse'])\n"
     ]
    }
   ],
   "source": [
    "#Checking format and keys of imported data above\n",
    "print(type(json_data_1))\n",
    "print(json_data_1.keys())"
   ]
  },
  {
   "cell_type": "code",
   "execution_count": 4,
   "id": "da9c84e0-f701-4200-a14b-52a6851e17e5",
   "metadata": {},
   "outputs": [
    {
     "name": "stdout",
     "output_type": "stream",
     "text": [
      "<class 'dict'>\n",
      "dict_keys(['APIVrs', 'DataVrs', 'Expression', 'NStudiesAvail', 'NStudiesFound', 'MinRank', 'MaxRank', 'NStudiesReturned', 'FieldList', 'StudyFields'])\n"
     ]
    }
   ],
   "source": [
    "#Further investigating structure of imported data \n",
    "print(type(json_data_1['StudyFieldsResponse']))\n",
    "print(json_data_1['StudyFieldsResponse'].keys())"
   ]
  },
  {
   "cell_type": "code",
   "execution_count": 5,
   "id": "c1f11aa5-ca32-4d62-aef0-ac1eed62aa68",
   "metadata": {},
   "outputs": [
    {
     "name": "stdout",
     "output_type": "stream",
     "text": [
      "<class 'list'>\n",
      "<class 'dict'>\n",
      "{'Rank': 1, 'NCTId': ['NCT05923710'], 'BriefTitle': ['Primary Anterior Cruciate Ligament Repair With and Without Lateral Extraarticular Tenodesis'], 'LeadSponsorClass': ['OTHER'], 'EnrollmentCount': ['38'], 'StartDate': ['February 1, 2020'], 'PrimaryCompletionDate': ['March 1, 2021']}\n"
     ]
    }
   ],
   "source": [
    "#Investigating data important under 'StudyFields' in imported data and printing first row.\n",
    "print(type(json_data_1['StudyFieldsResponse']['StudyFields']))\n",
    "print(type(json_data_1['StudyFieldsResponse']['StudyFields'][0]))\n",
    "print(json_data_1['StudyFieldsResponse']['StudyFields'][0])"
   ]
  },
  {
   "cell_type": "code",
   "execution_count": 6,
   "id": "e0904639-efea-430f-844f-caf120ec401b",
   "metadata": {},
   "outputs": [
    {
     "name": "stdout",
     "output_type": "stream",
     "text": [
      "{'Rank': 1, 'NCTId': ['NCT05923710'], 'BriefTitle': ['Primary Anterior Cruciate Ligament Repair With and Without Lateral Extraarticular Tenodesis'], 'LeadSponsorClass': ['OTHER'], 'EnrollmentCount': ['38'], 'StartDate': ['February 1, 2020'], 'PrimaryCompletionDate': ['March 1, 2021']}\n",
      "{'Rank': 2000, 'NCTId': ['NCT05412966'], 'BriefTitle': ['Feasibility Study of Novel Prescription Digital Therapeutic Supporting Unobserved Buprenorphine Initiation & Adherence'], 'LeadSponsorClass': ['INDUSTRY'], 'EnrollmentCount': ['7'], 'StartDate': ['November 4, 2022'], 'PrimaryCompletionDate': ['November 23, 2022']}\n"
     ]
    }
   ],
   "source": [
    "#Append the two imported datasets, i.e. the lists located under 'StudyFields' key in json_data_1 and json_data_2.\n",
    "clinical_trials_list = json_data_1['StudyFieldsResponse']['StudyFields'] + json_data_2['StudyFieldsResponse']['StudyFields']\n",
    "print(clinical_trials_list[0])\n",
    "print(clinical_trials_list[-1])"
   ]
  },
  {
   "cell_type": "code",
   "execution_count": 7,
   "id": "c4c72fff-9d77-4f7b-ad40-7c1440e123eb",
   "metadata": {},
   "outputs": [],
   "source": [
    "#Creating a dataframe to work with.\n",
    "clinical_trials_list_df = pd.DataFrame(clinical_trials_list)"
   ]
  },
  {
   "cell_type": "code",
   "execution_count": 8,
   "id": "87e8731b-fa18-46bd-a7c0-9f34446e344f",
   "metadata": {},
   "outputs": [],
   "source": [
    "#Importing flat csv file of fake company data on the number of products sold per clinical trial.\n",
    "product_purchases = pd.read_csv(\"trials_purchases.csv\")"
   ]
  },
  {
   "cell_type": "code",
   "execution_count": 9,
   "id": "93d8121c-ccc4-4fb8-be07-6ea0a723e4ec",
   "metadata": {},
   "outputs": [
    {
     "data": {
      "text/html": [
       "<div>\n",
       "<style scoped>\n",
       "    .dataframe tbody tr th:only-of-type {\n",
       "        vertical-align: middle;\n",
       "    }\n",
       "\n",
       "    .dataframe tbody tr th {\n",
       "        vertical-align: top;\n",
       "    }\n",
       "\n",
       "    .dataframe thead th {\n",
       "        text-align: right;\n",
       "    }\n",
       "</style>\n",
       "<table border=\"1\" class=\"dataframe\">\n",
       "  <thead>\n",
       "    <tr style=\"text-align: right;\">\n",
       "      <th></th>\n",
       "      <th>NCTId</th>\n",
       "      <th>Site-FacingProducts</th>\n",
       "      <th>Patient-FacingProducts</th>\n",
       "      <th>TotalProducts</th>\n",
       "    </tr>\n",
       "  </thead>\n",
       "  <tbody>\n",
       "    <tr>\n",
       "      <th>0</th>\n",
       "      <td>['NCT05732545']</td>\n",
       "      <td>2</td>\n",
       "      <td>1</td>\n",
       "      <td>3</td>\n",
       "    </tr>\n",
       "    <tr>\n",
       "      <th>1</th>\n",
       "      <td>['NCT05453305']</td>\n",
       "      <td>2</td>\n",
       "      <td>2</td>\n",
       "      <td>4</td>\n",
       "    </tr>\n",
       "    <tr>\n",
       "      <th>2</th>\n",
       "      <td>['NCT05464043']</td>\n",
       "      <td>4</td>\n",
       "      <td>2</td>\n",
       "      <td>6</td>\n",
       "    </tr>\n",
       "    <tr>\n",
       "      <th>3</th>\n",
       "      <td>['NCT05583994']</td>\n",
       "      <td>4</td>\n",
       "      <td>1</td>\n",
       "      <td>5</td>\n",
       "    </tr>\n",
       "    <tr>\n",
       "      <th>4</th>\n",
       "      <td>['NCT05450497']</td>\n",
       "      <td>4</td>\n",
       "      <td>0</td>\n",
       "      <td>4</td>\n",
       "    </tr>\n",
       "  </tbody>\n",
       "</table>\n",
       "</div>"
      ],
      "text/plain": [
       "             NCTId  Site-FacingProducts  Patient-FacingProducts  TotalProducts\n",
       "0  ['NCT05732545']                    2                       1              3\n",
       "1  ['NCT05453305']                    2                       2              4\n",
       "2  ['NCT05464043']                    4                       2              6\n",
       "3  ['NCT05583994']                    4                       1              5\n",
       "4  ['NCT05450497']                    4                       0              4"
      ]
     },
     "execution_count": 9,
     "metadata": {},
     "output_type": "execute_result"
    }
   ],
   "source": [
    "#Creating a dataframe for the company purchases data.\n",
    "product_purchases_df = pd.DataFrame(product_purchases)\n",
    "product_purchases.head()"
   ]
  },
  {
   "cell_type": "markdown",
   "id": "af1fcfec-2aba-4c5f-9f6b-a7c893508992",
   "metadata": {},
   "source": [
    "# Cleaning and Merging the Two DataFrames"
   ]
  },
  {
   "cell_type": "code",
   "execution_count": 10,
   "id": "c883b55f-8205-491e-8c7b-a04967cdd898",
   "metadata": {},
   "outputs": [
    {
     "data": {
      "text/plain": [
       "(2000, 7)"
      ]
     },
     "execution_count": 10,
     "metadata": {},
     "output_type": "execute_result"
    }
   ],
   "source": [
    "#checking shape of the clinical_trials_list dataframe.\n",
    "clinical_trials_list_df.shape"
   ]
  },
  {
   "cell_type": "code",
   "execution_count": 11,
   "id": "58e7e2b4-945d-4c60-8f4c-1edab98d528e",
   "metadata": {},
   "outputs": [
    {
     "name": "stdout",
     "output_type": "stream",
     "text": [
      "Empty DataFrame\n",
      "Columns: [Rank, NCTId, BriefTitle, LeadSponsorClass, EnrollmentCount, StartDate, PrimaryCompletionDate]\n",
      "Index: []\n"
     ]
    }
   ],
   "source": [
    "#Checking the clinical trials list for duplicate trials using the unique identifier NCTId.\n",
    "duplicate_trials = clinical_trials_list_df[clinical_trials_list_df.duplicated([\"NCTId\"])]\n",
    "print(duplicate_trials)"
   ]
  },
  {
   "cell_type": "code",
   "execution_count": 12,
   "id": "827d3745-20ef-4e9a-8312-ea5977c455a0",
   "metadata": {},
   "outputs": [
    {
     "data": {
      "text/html": [
       "<div>\n",
       "<style scoped>\n",
       "    .dataframe tbody tr th:only-of-type {\n",
       "        vertical-align: middle;\n",
       "    }\n",
       "\n",
       "    .dataframe tbody tr th {\n",
       "        vertical-align: top;\n",
       "    }\n",
       "\n",
       "    .dataframe thead th {\n",
       "        text-align: right;\n",
       "    }\n",
       "</style>\n",
       "<table border=\"1\" class=\"dataframe\">\n",
       "  <thead>\n",
       "    <tr style=\"text-align: right;\">\n",
       "      <th></th>\n",
       "      <th>Rank</th>\n",
       "      <th>NCTId</th>\n",
       "      <th>BriefTitle</th>\n",
       "      <th>LeadSponsorClass</th>\n",
       "      <th>EnrollmentCount</th>\n",
       "      <th>StartDate</th>\n",
       "      <th>PrimaryCompletionDate</th>\n",
       "    </tr>\n",
       "  </thead>\n",
       "  <tbody>\n",
       "    <tr>\n",
       "      <th>0</th>\n",
       "      <td>1</td>\n",
       "      <td>[NCT05923710]</td>\n",
       "      <td>[Primary Anterior Cruciate Ligament Repair Wit...</td>\n",
       "      <td>[OTHER]</td>\n",
       "      <td>[38]</td>\n",
       "      <td>[February 1, 2020]</td>\n",
       "      <td>[March 1, 2021]</td>\n",
       "    </tr>\n",
       "    <tr>\n",
       "      <th>1</th>\n",
       "      <td>2</td>\n",
       "      <td>[NCT05923151]</td>\n",
       "      <td>[The Cranial-caudal Mixed Medial Approach for ...</td>\n",
       "      <td>[OTHER]</td>\n",
       "      <td>[148]</td>\n",
       "      <td>[February 1, 2017]</td>\n",
       "      <td>[June 30, 2022]</td>\n",
       "    </tr>\n",
       "    <tr>\n",
       "      <th>2</th>\n",
       "      <td>3</td>\n",
       "      <td>[NCT05922696]</td>\n",
       "      <td>[Cholecalciferol Supplementation in Hemodialys...</td>\n",
       "      <td>[OTHER]</td>\n",
       "      <td>[50]</td>\n",
       "      <td>[May 15, 2022]</td>\n",
       "      <td>[September 15, 2022]</td>\n",
       "    </tr>\n",
       "    <tr>\n",
       "      <th>3</th>\n",
       "      <td>4</td>\n",
       "      <td>[NCT05922488]</td>\n",
       "      <td>[Effect of Umbilical Cord Milking Versus Clamp...</td>\n",
       "      <td>[OTHER]</td>\n",
       "      <td>[100]</td>\n",
       "      <td>[December 1, 2021]</td>\n",
       "      <td>[April 20, 2023]</td>\n",
       "    </tr>\n",
       "    <tr>\n",
       "      <th>4</th>\n",
       "      <td>5</td>\n",
       "      <td>[NCT05922163]</td>\n",
       "      <td>[Blood Transfusion Education Using Blended Vir...</td>\n",
       "      <td>[OTHER]</td>\n",
       "      <td>[151]</td>\n",
       "      <td>[March 1, 2022]</td>\n",
       "      <td>[June 30, 2022]</td>\n",
       "    </tr>\n",
       "  </tbody>\n",
       "</table>\n",
       "</div>"
      ],
      "text/plain": [
       "   Rank          NCTId                                         BriefTitle  \\\n",
       "0     1  [NCT05923710]  [Primary Anterior Cruciate Ligament Repair Wit...   \n",
       "1     2  [NCT05923151]  [The Cranial-caudal Mixed Medial Approach for ...   \n",
       "2     3  [NCT05922696]  [Cholecalciferol Supplementation in Hemodialys...   \n",
       "3     4  [NCT05922488]  [Effect of Umbilical Cord Milking Versus Clamp...   \n",
       "4     5  [NCT05922163]  [Blood Transfusion Education Using Blended Vir...   \n",
       "\n",
       "  LeadSponsorClass EnrollmentCount           StartDate PrimaryCompletionDate  \n",
       "0          [OTHER]            [38]  [February 1, 2020]       [March 1, 2021]  \n",
       "1          [OTHER]           [148]  [February 1, 2017]       [June 30, 2022]  \n",
       "2          [OTHER]            [50]      [May 15, 2022]  [September 15, 2022]  \n",
       "3          [OTHER]           [100]  [December 1, 2021]      [April 20, 2023]  \n",
       "4          [OTHER]           [151]     [March 1, 2022]       [June 30, 2022]  "
      ]
     },
     "execution_count": 12,
     "metadata": {},
     "output_type": "execute_result"
    }
   ],
   "source": [
    "#Look at first 5 rows of clinical_trials_list_df data to get a better sense of the dataset.\n",
    "clinical_trials_list_df.head()"
   ]
  },
  {
   "cell_type": "code",
   "execution_count": 13,
   "id": "1968ae81-0b7c-4323-b033-8d60fc2dc631",
   "metadata": {},
   "outputs": [
    {
     "data": {
      "text/html": [
       "<div>\n",
       "<style scoped>\n",
       "    .dataframe tbody tr th:only-of-type {\n",
       "        vertical-align: middle;\n",
       "    }\n",
       "\n",
       "    .dataframe tbody tr th {\n",
       "        vertical-align: top;\n",
       "    }\n",
       "\n",
       "    .dataframe thead th {\n",
       "        text-align: right;\n",
       "    }\n",
       "</style>\n",
       "<table border=\"1\" class=\"dataframe\">\n",
       "  <thead>\n",
       "    <tr style=\"text-align: right;\">\n",
       "      <th></th>\n",
       "      <th>NCTId</th>\n",
       "      <th>BriefTitle</th>\n",
       "      <th>LeadSponsorClass</th>\n",
       "      <th>EnrollmentCount</th>\n",
       "      <th>StartDate</th>\n",
       "      <th>PrimaryCompletionDate</th>\n",
       "    </tr>\n",
       "  </thead>\n",
       "  <tbody>\n",
       "    <tr>\n",
       "      <th>0</th>\n",
       "      <td>[NCT05923710]</td>\n",
       "      <td>[Primary Anterior Cruciate Ligament Repair Wit...</td>\n",
       "      <td>[OTHER]</td>\n",
       "      <td>[38]</td>\n",
       "      <td>[February 1, 2020]</td>\n",
       "      <td>[March 1, 2021]</td>\n",
       "    </tr>\n",
       "    <tr>\n",
       "      <th>1</th>\n",
       "      <td>[NCT05923151]</td>\n",
       "      <td>[The Cranial-caudal Mixed Medial Approach for ...</td>\n",
       "      <td>[OTHER]</td>\n",
       "      <td>[148]</td>\n",
       "      <td>[February 1, 2017]</td>\n",
       "      <td>[June 30, 2022]</td>\n",
       "    </tr>\n",
       "    <tr>\n",
       "      <th>2</th>\n",
       "      <td>[NCT05922696]</td>\n",
       "      <td>[Cholecalciferol Supplementation in Hemodialys...</td>\n",
       "      <td>[OTHER]</td>\n",
       "      <td>[50]</td>\n",
       "      <td>[May 15, 2022]</td>\n",
       "      <td>[September 15, 2022]</td>\n",
       "    </tr>\n",
       "    <tr>\n",
       "      <th>3</th>\n",
       "      <td>[NCT05922488]</td>\n",
       "      <td>[Effect of Umbilical Cord Milking Versus Clamp...</td>\n",
       "      <td>[OTHER]</td>\n",
       "      <td>[100]</td>\n",
       "      <td>[December 1, 2021]</td>\n",
       "      <td>[April 20, 2023]</td>\n",
       "    </tr>\n",
       "    <tr>\n",
       "      <th>4</th>\n",
       "      <td>[NCT05922163]</td>\n",
       "      <td>[Blood Transfusion Education Using Blended Vir...</td>\n",
       "      <td>[OTHER]</td>\n",
       "      <td>[151]</td>\n",
       "      <td>[March 1, 2022]</td>\n",
       "      <td>[June 30, 2022]</td>\n",
       "    </tr>\n",
       "  </tbody>\n",
       "</table>\n",
       "</div>"
      ],
      "text/plain": [
       "           NCTId                                         BriefTitle  \\\n",
       "0  [NCT05923710]  [Primary Anterior Cruciate Ligament Repair Wit...   \n",
       "1  [NCT05923151]  [The Cranial-caudal Mixed Medial Approach for ...   \n",
       "2  [NCT05922696]  [Cholecalciferol Supplementation in Hemodialys...   \n",
       "3  [NCT05922488]  [Effect of Umbilical Cord Milking Versus Clamp...   \n",
       "4  [NCT05922163]  [Blood Transfusion Education Using Blended Vir...   \n",
       "\n",
       "  LeadSponsorClass EnrollmentCount           StartDate PrimaryCompletionDate  \n",
       "0          [OTHER]            [38]  [February 1, 2020]       [March 1, 2021]  \n",
       "1          [OTHER]           [148]  [February 1, 2017]       [June 30, 2022]  \n",
       "2          [OTHER]            [50]      [May 15, 2022]  [September 15, 2022]  \n",
       "3          [OTHER]           [100]  [December 1, 2021]      [April 20, 2023]  \n",
       "4          [OTHER]           [151]     [March 1, 2022]       [June 30, 2022]  "
      ]
     },
     "execution_count": 13,
     "metadata": {},
     "output_type": "execute_result"
    }
   ],
   "source": [
    "#Dropping the rank column as this is of no interest.\n",
    "clinical_trials_list_df.drop('Rank', inplace=True, axis=1)\n",
    "clinical_trials_list_df.head()"
   ]
  },
  {
   "cell_type": "code",
   "execution_count": 14,
   "id": "6240dabc-c153-46f3-8dab-bf403e230b39",
   "metadata": {},
   "outputs": [
    {
     "name": "stdout",
     "output_type": "stream",
     "text": [
      "<class 'pandas.core.frame.DataFrame'>\n",
      "RangeIndex: 2000 entries, 0 to 1999\n",
      "Data columns (total 6 columns):\n",
      " #   Column                 Non-Null Count  Dtype \n",
      "---  ------                 --------------  ----- \n",
      " 0   NCTId                  2000 non-null   object\n",
      " 1   BriefTitle             2000 non-null   object\n",
      " 2   LeadSponsorClass       2000 non-null   object\n",
      " 3   EnrollmentCount        2000 non-null   object\n",
      " 4   StartDate              2000 non-null   object\n",
      " 5   PrimaryCompletionDate  2000 non-null   object\n",
      "dtypes: object(6)\n",
      "memory usage: 93.9+ KB\n"
     ]
    }
   ],
   "source": [
    "#Finding out number of data entries, columns, data types, and assessing quality of dataset (no. blank cells)\n",
    "clinical_trials_list_df.info()"
   ]
  },
  {
   "cell_type": "code",
   "execution_count": 15,
   "id": "5ccef34a-c949-4e20-bbc2-55c716d3ed85",
   "metadata": {},
   "outputs": [
    {
     "data": {
      "text/plain": [
       "NCTId                    False\n",
       "BriefTitle               False\n",
       "LeadSponsorClass         False\n",
       "EnrollmentCount          False\n",
       "StartDate                False\n",
       "PrimaryCompletionDate    False\n",
       "dtype: bool"
      ]
     },
     "execution_count": 15,
     "metadata": {},
     "output_type": "execute_result"
    }
   ],
   "source": [
    "#Confirming that there is no missing data. \n",
    "clinical_trials_list_df.isna().any()"
   ]
  },
  {
   "cell_type": "code",
   "execution_count": 16,
   "id": "abb389c0-f5e6-4609-8270-8bdfa2d748c0",
   "metadata": {},
   "outputs": [],
   "source": [
    "#Function that can be called to convert objects to strings and clean up the string objects in a dataframe by removing unnwanted characters.\n",
    "def clean_df_strings(self, *col_name):\n",
    "    \"\"\"When passed a dataframe, it converts the listed columns to strings and\n",
    "    removes any square brackets or single quotes from those strings.\"\"\"\n",
    "    for name in col_name:\n",
    "        self[name] = self[name].astype('string')\n",
    "        self[name] = self[name].str.replace(\"[\",\"\", regex=True).str.replace(\"]\",\"\", regex=True).str.strip(\"'\")"
   ]
  },
  {
   "cell_type": "code",
   "execution_count": 17,
   "id": "2792dadb-7571-49c0-a1f1-79cb58547b7d",
   "metadata": {},
   "outputs": [
    {
     "data": {
      "text/html": [
       "<div>\n",
       "<style scoped>\n",
       "    .dataframe tbody tr th:only-of-type {\n",
       "        vertical-align: middle;\n",
       "    }\n",
       "\n",
       "    .dataframe tbody tr th {\n",
       "        vertical-align: top;\n",
       "    }\n",
       "\n",
       "    .dataframe thead th {\n",
       "        text-align: right;\n",
       "    }\n",
       "</style>\n",
       "<table border=\"1\" class=\"dataframe\">\n",
       "  <thead>\n",
       "    <tr style=\"text-align: right;\">\n",
       "      <th></th>\n",
       "      <th>NCTId</th>\n",
       "      <th>BriefTitle</th>\n",
       "      <th>LeadSponsorClass</th>\n",
       "      <th>EnrollmentCount</th>\n",
       "      <th>StartDate</th>\n",
       "      <th>PrimaryCompletionDate</th>\n",
       "    </tr>\n",
       "  </thead>\n",
       "  <tbody>\n",
       "    <tr>\n",
       "      <th>0</th>\n",
       "      <td>NCT05923710</td>\n",
       "      <td>Primary Anterior Cruciate Ligament Repair With...</td>\n",
       "      <td>OTHER</td>\n",
       "      <td>38</td>\n",
       "      <td>February 1, 2020</td>\n",
       "      <td>March 1, 2021</td>\n",
       "    </tr>\n",
       "    <tr>\n",
       "      <th>1</th>\n",
       "      <td>NCT05923151</td>\n",
       "      <td>The Cranial-caudal Mixed Medial Approach for L...</td>\n",
       "      <td>OTHER</td>\n",
       "      <td>148</td>\n",
       "      <td>February 1, 2017</td>\n",
       "      <td>June 30, 2022</td>\n",
       "    </tr>\n",
       "    <tr>\n",
       "      <th>2</th>\n",
       "      <td>NCT05922696</td>\n",
       "      <td>Cholecalciferol Supplementation in Hemodialysi...</td>\n",
       "      <td>OTHER</td>\n",
       "      <td>50</td>\n",
       "      <td>May 15, 2022</td>\n",
       "      <td>September 15, 2022</td>\n",
       "    </tr>\n",
       "    <tr>\n",
       "      <th>3</th>\n",
       "      <td>NCT05922488</td>\n",
       "      <td>Effect of Umbilical Cord Milking Versus Clampi...</td>\n",
       "      <td>OTHER</td>\n",
       "      <td>100</td>\n",
       "      <td>December 1, 2021</td>\n",
       "      <td>April 20, 2023</td>\n",
       "    </tr>\n",
       "    <tr>\n",
       "      <th>4</th>\n",
       "      <td>NCT05922163</td>\n",
       "      <td>Blood Transfusion Education Using Blended Virt...</td>\n",
       "      <td>OTHER</td>\n",
       "      <td>151</td>\n",
       "      <td>March 1, 2022</td>\n",
       "      <td>June 30, 2022</td>\n",
       "    </tr>\n",
       "  </tbody>\n",
       "</table>\n",
       "</div>"
      ],
      "text/plain": [
       "         NCTId                                         BriefTitle  \\\n",
       "0  NCT05923710  Primary Anterior Cruciate Ligament Repair With...   \n",
       "1  NCT05923151  The Cranial-caudal Mixed Medial Approach for L...   \n",
       "2  NCT05922696  Cholecalciferol Supplementation in Hemodialysi...   \n",
       "3  NCT05922488  Effect of Umbilical Cord Milking Versus Clampi...   \n",
       "4  NCT05922163  Blood Transfusion Education Using Blended Virt...   \n",
       "\n",
       "  LeadSponsorClass EnrollmentCount         StartDate PrimaryCompletionDate  \n",
       "0            OTHER              38  February 1, 2020         March 1, 2021  \n",
       "1            OTHER             148  February 1, 2017         June 30, 2022  \n",
       "2            OTHER              50      May 15, 2022    September 15, 2022  \n",
       "3            OTHER             100  December 1, 2021        April 20, 2023  \n",
       "4            OTHER             151     March 1, 2022         June 30, 2022  "
      ]
     },
     "execution_count": 17,
     "metadata": {},
     "output_type": "execute_result"
    }
   ],
   "source": [
    "#Removing unwanted characters from the clinical trials list strings.\n",
    "clean_df_strings(clinical_trials_list_df, \"NCTId\", \"BriefTitle\", \"LeadSponsorClass\", \"EnrollmentCount\", \"StartDate\", \"PrimaryCompletionDate\")\n",
    "clinical_trials_list_df.head()"
   ]
  },
  {
   "cell_type": "code",
   "execution_count": 18,
   "id": "108b14f2-a2c8-458b-aa4c-221be1f165b6",
   "metadata": {},
   "outputs": [
    {
     "data": {
      "text/plain": [
       "NCTId                    string\n",
       "BriefTitle               string\n",
       "LeadSponsorClass         string\n",
       "EnrollmentCount           int32\n",
       "StartDate                string\n",
       "PrimaryCompletionDate    string\n",
       "dtype: object"
      ]
     },
     "execution_count": 18,
     "metadata": {},
     "output_type": "execute_result"
    }
   ],
   "source": [
    "#Converting Enrollment to an integer and checking the type.\n",
    "clinical_trials_list_df['EnrollmentCount'] = clinical_trials_list_df['EnrollmentCount'].astype(int)\n",
    "clinical_trials_list_df.dtypes"
   ]
  },
  {
   "cell_type": "code",
   "execution_count": 19,
   "id": "dfa6c80d-247f-48c8-8383-c6a9b9999575",
   "metadata": {},
   "outputs": [
    {
     "name": "stdout",
     "output_type": "stream",
     "text": [
      "NCTId                            string\n",
      "BriefTitle                       string\n",
      "LeadSponsorClass                 string\n",
      "EnrollmentCount                   int32\n",
      "StartDate                datetime64[ns]\n",
      "PrimaryCompletionDate    datetime64[ns]\n",
      "dtype: object\n"
     ]
    }
   ],
   "source": [
    "#Converting the the start and completion dates to datetime.\n",
    "clinical_trials_list_df[\"StartDate\"] = pd.to_datetime(clinical_trials_list_df[\"StartDate\"])\n",
    "clinical_trials_list_df[\"PrimaryCompletionDate\"] = pd.to_datetime(clinical_trials_list_df[\"PrimaryCompletionDate\"])\n",
    "print(clinical_trials_list_df.dtypes)"
   ]
  },
  {
   "cell_type": "code",
   "execution_count": 20,
   "id": "0c34fb0c-94ce-4c67-8556-b1f674de46f5",
   "metadata": {},
   "outputs": [],
   "source": [
    "#Adding column to capture length of the study as number of days.\n",
    "clinical_trials_list_df[\"StudyLength\"] = (clinical_trials_list_df[\"PrimaryCompletionDate\"] - clinical_trials_list_df[\"StartDate\"]).dt.days"
   ]
  },
  {
   "cell_type": "code",
   "execution_count": 21,
   "id": "09c0b03e-2ad0-4e08-9962-98ca5ecbd79b",
   "metadata": {},
   "outputs": [
    {
     "data": {
      "text/html": [
       "<div>\n",
       "<style scoped>\n",
       "    .dataframe tbody tr th:only-of-type {\n",
       "        vertical-align: middle;\n",
       "    }\n",
       "\n",
       "    .dataframe tbody tr th {\n",
       "        vertical-align: top;\n",
       "    }\n",
       "\n",
       "    .dataframe thead th {\n",
       "        text-align: right;\n",
       "    }\n",
       "</style>\n",
       "<table border=\"1\" class=\"dataframe\">\n",
       "  <thead>\n",
       "    <tr style=\"text-align: right;\">\n",
       "      <th></th>\n",
       "      <th>NCTId</th>\n",
       "      <th>BriefTitle</th>\n",
       "      <th>LeadSponsorClass</th>\n",
       "      <th>EnrollmentCount</th>\n",
       "      <th>StartDate</th>\n",
       "      <th>PrimaryCompletionDate</th>\n",
       "      <th>StudyLength</th>\n",
       "    </tr>\n",
       "  </thead>\n",
       "  <tbody>\n",
       "    <tr>\n",
       "      <th>1576</th>\n",
       "      <td>NCT05490316</td>\n",
       "      <td>A Study of IBI353 (Orismilast) in Chinese Heal...</td>\n",
       "      <td>INDUSTRY</td>\n",
       "      <td>20</td>\n",
       "      <td>2022-11-30</td>\n",
       "      <td>2022-11-30</td>\n",
       "      <td>0</td>\n",
       "    </tr>\n",
       "    <tr>\n",
       "      <th>702</th>\n",
       "      <td>NCT05706090</td>\n",
       "      <td>Effect of Neurostimulator Usage on Block Success</td>\n",
       "      <td>OTHER_GOV</td>\n",
       "      <td>60</td>\n",
       "      <td>2020-02-01</td>\n",
       "      <td>2020-02-01</td>\n",
       "      <td>0</td>\n",
       "    </tr>\n",
       "    <tr>\n",
       "      <th>1768</th>\n",
       "      <td>NCT05455970</td>\n",
       "      <td>Effect of Rhythmic Auditory Stimulation on Bal...</td>\n",
       "      <td>OTHER</td>\n",
       "      <td>22</td>\n",
       "      <td>2018-09-20</td>\n",
       "      <td>2018-09-20</td>\n",
       "      <td>0</td>\n",
       "    </tr>\n",
       "    <tr>\n",
       "      <th>624</th>\n",
       "      <td>NCT05725551</td>\n",
       "      <td>The Effect of Shotblocker, Finger Puppet And B...</td>\n",
       "      <td>OTHER</td>\n",
       "      <td>148</td>\n",
       "      <td>2022-10-01</td>\n",
       "      <td>2022-10-01</td>\n",
       "      <td>0</td>\n",
       "    </tr>\n",
       "    <tr>\n",
       "      <th>1611</th>\n",
       "      <td>NCT05484752</td>\n",
       "      <td>Efficacy of Peripheral Magnetic Stimulation to...</td>\n",
       "      <td>OTHER</td>\n",
       "      <td>30</td>\n",
       "      <td>2019-08-01</td>\n",
       "      <td>2019-08-01</td>\n",
       "      <td>0</td>\n",
       "    </tr>\n",
       "  </tbody>\n",
       "</table>\n",
       "</div>"
      ],
      "text/plain": [
       "            NCTId                                         BriefTitle  \\\n",
       "1576  NCT05490316  A Study of IBI353 (Orismilast) in Chinese Heal...   \n",
       "702   NCT05706090   Effect of Neurostimulator Usage on Block Success   \n",
       "1768  NCT05455970  Effect of Rhythmic Auditory Stimulation on Bal...   \n",
       "624   NCT05725551  The Effect of Shotblocker, Finger Puppet And B...   \n",
       "1611  NCT05484752  Efficacy of Peripheral Magnetic Stimulation to...   \n",
       "\n",
       "     LeadSponsorClass  EnrollmentCount  StartDate PrimaryCompletionDate  \\\n",
       "1576         INDUSTRY               20 2022-11-30            2022-11-30   \n",
       "702         OTHER_GOV               60 2020-02-01            2020-02-01   \n",
       "1768            OTHER               22 2018-09-20            2018-09-20   \n",
       "624             OTHER              148 2022-10-01            2022-10-01   \n",
       "1611            OTHER               30 2019-08-01            2019-08-01   \n",
       "\n",
       "      StudyLength  \n",
       "1576            0  \n",
       "702             0  \n",
       "1768            0  \n",
       "624             0  \n",
       "1611            0  "
      ]
     },
     "execution_count": 21,
     "metadata": {},
     "output_type": "execute_result"
    }
   ],
   "source": [
    "#Sorting the dataframe by the length of the study.\n",
    "clinical_trials_list_df = clinical_trials_list_df.sort_values(by=\"StudyLength\")\n",
    "clinical_trials_list_df.head()"
   ]
  },
  {
   "cell_type": "code",
   "execution_count": 22,
   "id": "5213671b-d136-4dc0-a0c6-80137387bce4",
   "metadata": {},
   "outputs": [
    {
     "name": "stdout",
     "output_type": "stream",
     "text": [
      "(93, 4)\n"
     ]
    },
    {
     "data": {
      "text/plain": [
       "NCTId                     object\n",
       "Site-FacingProducts        int64\n",
       "Patient-FacingProducts     int64\n",
       "TotalProducts              int64\n",
       "dtype: object"
      ]
     },
     "execution_count": 22,
     "metadata": {},
     "output_type": "execute_result"
    }
   ],
   "source": [
    "#Checking the shape and datatypes of the product purchases dataframe.\n",
    "print(product_purchases_df.shape)\n",
    "product_purchases_df.dtypes"
   ]
  },
  {
   "cell_type": "code",
   "execution_count": 23,
   "id": "a50c0567-aea0-49cc-937c-59c594ba21c2",
   "metadata": {},
   "outputs": [
    {
     "data": {
      "text/plain": [
       "NCTId                     False\n",
       "Site-FacingProducts       False\n",
       "Patient-FacingProducts    False\n",
       "TotalProducts             False\n",
       "dtype: bool"
      ]
     },
     "execution_count": 23,
     "metadata": {},
     "output_type": "execute_result"
    }
   ],
   "source": [
    "#Confirming that there is no missing data. \n",
    "product_purchases_df.isna().any()"
   ]
  },
  {
   "cell_type": "code",
   "execution_count": 24,
   "id": "48ed21d0-9ae3-4300-9237-354ad473a710",
   "metadata": {},
   "outputs": [
    {
     "data": {
      "text/html": [
       "<div>\n",
       "<style scoped>\n",
       "    .dataframe tbody tr th:only-of-type {\n",
       "        vertical-align: middle;\n",
       "    }\n",
       "\n",
       "    .dataframe tbody tr th {\n",
       "        vertical-align: top;\n",
       "    }\n",
       "\n",
       "    .dataframe thead th {\n",
       "        text-align: right;\n",
       "    }\n",
       "</style>\n",
       "<table border=\"1\" class=\"dataframe\">\n",
       "  <thead>\n",
       "    <tr style=\"text-align: right;\">\n",
       "      <th></th>\n",
       "      <th>NCTId</th>\n",
       "      <th>Site-FacingProducts</th>\n",
       "      <th>Patient-FacingProducts</th>\n",
       "      <th>TotalProducts</th>\n",
       "    </tr>\n",
       "  </thead>\n",
       "  <tbody>\n",
       "    <tr>\n",
       "      <th>0</th>\n",
       "      <td>NCT05732545</td>\n",
       "      <td>2</td>\n",
       "      <td>1</td>\n",
       "      <td>3</td>\n",
       "    </tr>\n",
       "    <tr>\n",
       "      <th>1</th>\n",
       "      <td>NCT05453305</td>\n",
       "      <td>2</td>\n",
       "      <td>2</td>\n",
       "      <td>4</td>\n",
       "    </tr>\n",
       "    <tr>\n",
       "      <th>2</th>\n",
       "      <td>NCT05464043</td>\n",
       "      <td>4</td>\n",
       "      <td>2</td>\n",
       "      <td>6</td>\n",
       "    </tr>\n",
       "    <tr>\n",
       "      <th>3</th>\n",
       "      <td>NCT05583994</td>\n",
       "      <td>4</td>\n",
       "      <td>1</td>\n",
       "      <td>5</td>\n",
       "    </tr>\n",
       "    <tr>\n",
       "      <th>4</th>\n",
       "      <td>NCT05450497</td>\n",
       "      <td>4</td>\n",
       "      <td>0</td>\n",
       "      <td>4</td>\n",
       "    </tr>\n",
       "  </tbody>\n",
       "</table>\n",
       "</div>"
      ],
      "text/plain": [
       "         NCTId  Site-FacingProducts  Patient-FacingProducts  TotalProducts\n",
       "0  NCT05732545                    2                       1              3\n",
       "1  NCT05453305                    2                       2              4\n",
       "2  NCT05464043                    4                       2              6\n",
       "3  NCT05583994                    4                       1              5\n",
       "4  NCT05450497                    4                       0              4"
      ]
     },
     "execution_count": 24,
     "metadata": {},
     "output_type": "execute_result"
    }
   ],
   "source": [
    "#Converting NCTId to string and removing any unwanted characters.\n",
    "clean_df_strings(product_purchases_df, \"NCTId\")\n",
    "product_purchases_df.head()"
   ]
  },
  {
   "cell_type": "code",
   "execution_count": 25,
   "id": "10d72cc8-71cc-498d-9808-951d1d9988f6",
   "metadata": {},
   "outputs": [
    {
     "data": {
      "text/html": [
       "<div>\n",
       "<style scoped>\n",
       "    .dataframe tbody tr th:only-of-type {\n",
       "        vertical-align: middle;\n",
       "    }\n",
       "\n",
       "    .dataframe tbody tr th {\n",
       "        vertical-align: top;\n",
       "    }\n",
       "\n",
       "    .dataframe thead th {\n",
       "        text-align: right;\n",
       "    }\n",
       "</style>\n",
       "<table border=\"1\" class=\"dataframe\">\n",
       "  <thead>\n",
       "    <tr style=\"text-align: right;\">\n",
       "      <th></th>\n",
       "      <th>NCTId</th>\n",
       "      <th>Site-FacingProducts</th>\n",
       "      <th>Patient-FacingProducts</th>\n",
       "      <th>TotalProducts</th>\n",
       "      <th>BriefTitle</th>\n",
       "      <th>LeadSponsorClass</th>\n",
       "      <th>EnrollmentCount</th>\n",
       "      <th>StartDate</th>\n",
       "      <th>PrimaryCompletionDate</th>\n",
       "      <th>StudyLength</th>\n",
       "    </tr>\n",
       "  </thead>\n",
       "  <tbody>\n",
       "    <tr>\n",
       "      <th>0</th>\n",
       "      <td>NCT05732545</td>\n",
       "      <td>2</td>\n",
       "      <td>1</td>\n",
       "      <td>3</td>\n",
       "      <td>Application of Enteral Nutrition Program in Pa...</td>\n",
       "      <td>OTHER</td>\n",
       "      <td>218</td>\n",
       "      <td>2022-01-01</td>\n",
       "      <td>2022-10-01</td>\n",
       "      <td>273</td>\n",
       "    </tr>\n",
       "    <tr>\n",
       "      <th>1</th>\n",
       "      <td>NCT05453305</td>\n",
       "      <td>2</td>\n",
       "      <td>2</td>\n",
       "      <td>4</td>\n",
       "      <td>\"Venopuncture in Pediatric Emergency Departmen...</td>\n",
       "      <td>OTHER</td>\n",
       "      <td>220</td>\n",
       "      <td>2021-06-01</td>\n",
       "      <td>2022-06-30</td>\n",
       "      <td>394</td>\n",
       "    </tr>\n",
       "    <tr>\n",
       "      <th>2</th>\n",
       "      <td>NCT05464043</td>\n",
       "      <td>4</td>\n",
       "      <td>2</td>\n",
       "      <td>6</td>\n",
       "      <td>Hyperglycemia and (Pre)Diabetes in Pediatric R...</td>\n",
       "      <td>OTHER</td>\n",
       "      <td>250</td>\n",
       "      <td>2019-06-20</td>\n",
       "      <td>2019-12-31</td>\n",
       "      <td>194</td>\n",
       "    </tr>\n",
       "    <tr>\n",
       "      <th>3</th>\n",
       "      <td>NCT05583994</td>\n",
       "      <td>4</td>\n",
       "      <td>1</td>\n",
       "      <td>5</td>\n",
       "      <td>\"Optimising Community Resources and Support to...</td>\n",
       "      <td>OTHER</td>\n",
       "      <td>264</td>\n",
       "      <td>2022-07-13</td>\n",
       "      <td>2023-03-31</td>\n",
       "      <td>261</td>\n",
       "    </tr>\n",
       "    <tr>\n",
       "      <th>4</th>\n",
       "      <td>NCT05450497</td>\n",
       "      <td>4</td>\n",
       "      <td>0</td>\n",
       "      <td>4</td>\n",
       "      <td>Effect of Sedative Agent on Reducing the Frequ...</td>\n",
       "      <td>OTHER</td>\n",
       "      <td>356</td>\n",
       "      <td>2017-07-01</td>\n",
       "      <td>2019-07-01</td>\n",
       "      <td>730</td>\n",
       "    </tr>\n",
       "  </tbody>\n",
       "</table>\n",
       "</div>"
      ],
      "text/plain": [
       "         NCTId  Site-FacingProducts  Patient-FacingProducts  TotalProducts  \\\n",
       "0  NCT05732545                    2                       1              3   \n",
       "1  NCT05453305                    2                       2              4   \n",
       "2  NCT05464043                    4                       2              6   \n",
       "3  NCT05583994                    4                       1              5   \n",
       "4  NCT05450497                    4                       0              4   \n",
       "\n",
       "                                          BriefTitle LeadSponsorClass  \\\n",
       "0  Application of Enteral Nutrition Program in Pa...            OTHER   \n",
       "1  \"Venopuncture in Pediatric Emergency Departmen...            OTHER   \n",
       "2  Hyperglycemia and (Pre)Diabetes in Pediatric R...            OTHER   \n",
       "3  \"Optimising Community Resources and Support to...            OTHER   \n",
       "4  Effect of Sedative Agent on Reducing the Frequ...            OTHER   \n",
       "\n",
       "   EnrollmentCount  StartDate PrimaryCompletionDate  StudyLength  \n",
       "0              218 2022-01-01            2022-10-01          273  \n",
       "1              220 2021-06-01            2022-06-30          394  \n",
       "2              250 2019-06-20            2019-12-31          194  \n",
       "3              264 2022-07-13            2023-03-31          261  \n",
       "4              356 2017-07-01            2019-07-01          730  "
      ]
     },
     "execution_count": 25,
     "metadata": {},
     "output_type": "execute_result"
    }
   ],
   "source": [
    "#Merging the two dataframes to create a single dataset\n",
    "trials_df = product_purchases.merge(clinical_trials_list_df, how=\"left\", on=\"NCTId\")\n",
    "trials_df.head()"
   ]
  },
  {
   "cell_type": "code",
   "execution_count": 26,
   "id": "82b2f3dc-1251-44d1-8f84-e0606f78ad50",
   "metadata": {},
   "outputs": [
    {
     "data": {
      "text/plain": [
       "(93, 10)"
      ]
     },
     "execution_count": 26,
     "metadata": {},
     "output_type": "execute_result"
    }
   ],
   "source": [
    "#Checking the shape of the new dataframe\n",
    "trials_df.shape"
   ]
  },
  {
   "cell_type": "code",
   "execution_count": 27,
   "id": "915f8ef1-dbfb-479b-9ce9-0d18074f1a29",
   "metadata": {},
   "outputs": [
    {
     "data": {
      "text/plain": [
       "NCTId                     False\n",
       "Site-FacingProducts       False\n",
       "Patient-FacingProducts    False\n",
       "TotalProducts             False\n",
       "BriefTitle                False\n",
       "LeadSponsorClass          False\n",
       "EnrollmentCount           False\n",
       "StartDate                 False\n",
       "PrimaryCompletionDate     False\n",
       "StudyLength               False\n",
       "dtype: bool"
      ]
     },
     "execution_count": 27,
     "metadata": {},
     "output_type": "execute_result"
    }
   ],
   "source": [
    "#Confirming no missing data\n",
    "trials_df.isna().any()"
   ]
  },
  {
   "cell_type": "markdown",
   "id": "0056bd17-78f5-44e6-b780-da93cfaa9c8f",
   "metadata": {},
   "source": [
    "# Descriptive Statistics"
   ]
  },
  {
   "cell_type": "code",
   "execution_count": 28,
   "id": "5aeab09b-bee1-4d17-ac1c-9c7573424706",
   "metadata": {},
   "outputs": [
    {
     "name": "stdout",
     "output_type": "stream",
     "text": [
      "Mean Enrolled: 162.2258064516129\n",
      "Mean Study Length: 404.93548387096774\n",
      "Median Enrolled: 63.0\n",
      "Median Study Length: 282.0\n"
     ]
    }
   ],
   "source": [
    "#Finding out mean and median of number of patients enrolled and length of each study.\n",
    "enrollment_np = np.array(trials_df[\"EnrollmentCount\"])\n",
    "length_np = np.array(trials_df[\"StudyLength\"])\n",
    "print(f\"Mean Enrolled: {enrollment_np.mean()}\\nMean Study Length: {length_np.mean()}\")\n",
    "print(f\"Median Enrolled: {np.median(enrollment_np)}\\nMedian Study Length: {np.median(length_np)}\")"
   ]
  },
  {
   "cell_type": "code",
   "execution_count": 29,
   "id": "be79c138-72d6-48cd-ad62-79c11a1a1d0f",
   "metadata": {},
   "outputs": [
    {
     "name": "stdout",
     "output_type": "stream",
     "text": [
      "Mean Enrolled in All Trials: 532.4355\n",
      "Mean Study Length for All Trials: 414.303\n",
      "Median Enrolled in All Trials: 58.0\n",
      "Median Study Length for All Trials: 243.0\n"
     ]
    }
   ],
   "source": [
    "#Getting mean and median statistics from overall clinical_trials_list_df for comparison with above.\n",
    "all_enrollment_np = np.array(clinical_trials_list_df[\"EnrollmentCount\"])\n",
    "all_length_np = np.array(clinical_trials_list_df[\"StudyLength\"])\n",
    "print(f\"Mean Enrolled in All Trials: {all_enrollment_np.mean()}\\nMean Study Length for All Trials: {all_length_np.mean()}\")\n",
    "print(f\"Median Enrolled in All Trials: {np.median(all_enrollment_np)}\\nMedian Study Length for All Trials: {np.median(all_length_np)}\")"
   ]
  },
  {
   "cell_type": "code",
   "execution_count": 30,
   "id": "491b6c6d-0c66-4756-aba0-9a42dff07dba",
   "metadata": {},
   "outputs": [
    {
     "data": {
      "image/png": "[encoded data removed]",
      "text/plain": [
       "<Figure size 640x480 with 2 Axes>"
      ]
     },
     "metadata": {},
     "output_type": "display_data"
    }
   ],
   "source": [
    "#Plotting boxplot of length of and patient enrollment in all trials compared to awarded trials.\n",
    "fix, ax = plt.subplots(1,2)\n",
    "ax[0].boxplot([all_length_np, length_np])\n",
    "ax[0].set_xticklabels([\"All Trials\", \"Awarded Trials\"])\n",
    "ax[0].set_ylabel(\"Trial Length (Days)\")\n",
    "\n",
    "ax[1].boxplot([all_enrollment_np, enrollment_np])\n",
    "ax[1].set_xticklabels([\"All Trials\", \"Awarded Trials\"])\n",
    "ax[1].set_ylabel(\"# Trial Participants\")\n",
    "plt.show()"
   ]
  },
  {
   "cell_type": "code",
   "execution_count": 31,
   "id": "59f4e23a-7fd8-4b13-9265-f7dc6f370457",
   "metadata": {},
   "outputs": [],
   "source": [
    "#Creating arrays with data with fewer outliers\n",
    "clean_all_enrollment_np = all_enrollment_np[all_enrollment_np<5000]\n",
    "clean_all_length_np = all_length_np[all_length_np<1000]\n",
    "    "
   ]
  },
  {
   "cell_type": "code",
   "execution_count": 32,
   "id": "4497592b-9a71-4407-a0e6-96d5b0d5593c",
   "metadata": {},
   "outputs": [
    {
     "data": {
      "image/png": "[encoded data removed]",
      "text/plain": [
       "<Figure size 640x480 with 2 Axes>"
      ]
     },
     "metadata": {},
     "output_type": "display_data"
    }
   ],
   "source": [
    "#Plotting boxplots of length of and patient enrollment using arrays with fewer outliers.\n",
    "fix, ax = plt.subplots(1,2)\n",
    "ax[0].boxplot([clean_all_length_np, length_np])\n",
    "ax[0].set_xticklabels([\"All Trials\", \"Awarded Trials\"])\n",
    "ax[0].set_ylabel(\"Trial Length (Days)\")\n",
    "\n",
    "ax[1].boxplot([clean_all_enrollment_np, enrollment_np])\n",
    "ax[1].set_xticklabels([\"All Trials\", \"Awarded Trials\"])\n",
    "ax[1].set_ylabel(\"# Trial Participants\")\n",
    "plt.show()"
   ]
  },
  {
   "cell_type": "code",
   "execution_count": 33,
   "id": "2ff38600-5144-4126-8fea-70d155c78624",
   "metadata": {},
   "outputs": [
    {
     "data": {
      "text/html": [
       "<div>\n",
       "<style scoped>\n",
       "    .dataframe tbody tr th:only-of-type {\n",
       "        vertical-align: middle;\n",
       "    }\n",
       "\n",
       "    .dataframe tbody tr th {\n",
       "        vertical-align: top;\n",
       "    }\n",
       "\n",
       "    .dataframe thead th {\n",
       "        text-align: right;\n",
       "    }\n",
       "</style>\n",
       "<table border=\"1\" class=\"dataframe\">\n",
       "  <thead>\n",
       "    <tr style=\"text-align: right;\">\n",
       "      <th></th>\n",
       "      <th>Site-FacingProducts</th>\n",
       "      <th>Patient-FacingProducts</th>\n",
       "      <th>TotalProducts</th>\n",
       "      <th>EnrollmentCount</th>\n",
       "      <th>StudyLength</th>\n",
       "    </tr>\n",
       "  </thead>\n",
       "  <tbody>\n",
       "    <tr>\n",
       "      <th>count</th>\n",
       "      <td>93.000000</td>\n",
       "      <td>93.000000</td>\n",
       "      <td>93.000000</td>\n",
       "      <td>93.000000</td>\n",
       "      <td>93.000000</td>\n",
       "    </tr>\n",
       "    <tr>\n",
       "      <th>mean</th>\n",
       "      <td>3.677419</td>\n",
       "      <td>1.462366</td>\n",
       "      <td>5.172043</td>\n",
       "      <td>162.225806</td>\n",
       "      <td>404.935484</td>\n",
       "    </tr>\n",
       "    <tr>\n",
       "      <th>std</th>\n",
       "      <td>1.171781</td>\n",
       "      <td>1.306831</td>\n",
       "      <td>1.645968</td>\n",
       "      <td>224.813891</td>\n",
       "      <td>369.860544</td>\n",
       "    </tr>\n",
       "    <tr>\n",
       "      <th>min</th>\n",
       "      <td>0.000000</td>\n",
       "      <td>0.000000</td>\n",
       "      <td>3.000000</td>\n",
       "      <td>6.000000</td>\n",
       "      <td>57.000000</td>\n",
       "    </tr>\n",
       "    <tr>\n",
       "      <th>5%</th>\n",
       "      <td>2.000000</td>\n",
       "      <td>0.000000</td>\n",
       "      <td>3.000000</td>\n",
       "      <td>12.000000</td>\n",
       "      <td>113.200000</td>\n",
       "    </tr>\n",
       "    <tr>\n",
       "      <th>25%</th>\n",
       "      <td>3.000000</td>\n",
       "      <td>0.000000</td>\n",
       "      <td>4.000000</td>\n",
       "      <td>32.000000</td>\n",
       "      <td>183.000000</td>\n",
       "    </tr>\n",
       "    <tr>\n",
       "      <th>50%</th>\n",
       "      <td>4.000000</td>\n",
       "      <td>2.000000</td>\n",
       "      <td>5.000000</td>\n",
       "      <td>63.000000</td>\n",
       "      <td>282.000000</td>\n",
       "    </tr>\n",
       "    <tr>\n",
       "      <th>75%</th>\n",
       "      <td>5.000000</td>\n",
       "      <td>3.000000</td>\n",
       "      <td>7.000000</td>\n",
       "      <td>250.000000</td>\n",
       "      <td>430.000000</td>\n",
       "    </tr>\n",
       "    <tr>\n",
       "      <th>95%</th>\n",
       "      <td>5.000000</td>\n",
       "      <td>3.000000</td>\n",
       "      <td>8.000000</td>\n",
       "      <td>458.000000</td>\n",
       "      <td>1130.400000</td>\n",
       "    </tr>\n",
       "    <tr>\n",
       "      <th>max</th>\n",
       "      <td>5.000000</td>\n",
       "      <td>4.000000</td>\n",
       "      <td>9.000000</td>\n",
       "      <td>1359.000000</td>\n",
       "      <td>1961.000000</td>\n",
       "    </tr>\n",
       "  </tbody>\n",
       "</table>\n",
       "</div>"
      ],
      "text/plain": [
       "       Site-FacingProducts  Patient-FacingProducts  TotalProducts  \\\n",
       "count            93.000000               93.000000      93.000000   \n",
       "mean              3.677419                1.462366       5.172043   \n",
       "std               1.171781                1.306831       1.645968   \n",
       "min               0.000000                0.000000       3.000000   \n",
       "5%                2.000000                0.000000       3.000000   \n",
       "25%               3.000000                0.000000       4.000000   \n",
       "50%               4.000000                2.000000       5.000000   \n",
       "75%               5.000000                3.000000       7.000000   \n",
       "95%               5.000000                3.000000       8.000000   \n",
       "max               5.000000                4.000000       9.000000   \n",
       "\n",
       "       EnrollmentCount  StudyLength  \n",
       "count        93.000000    93.000000  \n",
       "mean        162.225806   404.935484  \n",
       "std         224.813891   369.860544  \n",
       "min           6.000000    57.000000  \n",
       "5%           12.000000   113.200000  \n",
       "25%          32.000000   183.000000  \n",
       "50%          63.000000   282.000000  \n",
       "75%         250.000000   430.000000  \n",
       "95%         458.000000  1130.400000  \n",
       "max        1359.000000  1961.000000  "
      ]
     },
     "execution_count": 33,
     "metadata": {},
     "output_type": "execute_result"
    }
   ],
   "source": [
    "#Descriptive statistics for integer data.\n",
    "trials_df.describe(percentiles=[0.05, 0.25, 0.75, 0.95])"
   ]
  },
  {
   "cell_type": "code",
   "execution_count": 34,
   "id": "1269d9be-bab9-414a-9dd4-979278806c21",
   "metadata": {},
   "outputs": [
    {
     "data": {
      "image/png": "[encoded data removed]",
      "text/plain": [
       "<Figure size 640x480 with 6 Axes>"
      ]
     },
     "metadata": {},
     "output_type": "display_data"
    }
   ],
   "source": [
    "#Plotting bat charts to assess potential relationships.\n",
    "fig, ax = plt.subplots(2,3, sharey=True)\n",
    "ax[0,0].bar(trials_df[\"Site-FacingProducts\"], trials_df[\"StudyLength\"])\n",
    "ax[0,1].bar(trials_df[\"Patient-FacingProducts\"], trials_df[\"StudyLength\"])\n",
    "ax[0,2].bar(trials_df[\"TotalProducts\"], trials_df[\"StudyLength\"])\n",
    "ax[0,0].set_ylabel(\"Study Length (Days)\")\n",
    "ax[1,0].bar(trials_df[\"Site-FacingProducts\"], trials_df[\"EnrollmentCount\"], color=\"red\")\n",
    "ax[1,1].bar(trials_df[\"Patient-FacingProducts\"], trials_df[\"EnrollmentCount\"], color=\"red\")\n",
    "ax[1,2].bar(trials_df[\"TotalProducts\"], trials_df[\"EnrollmentCount\"], color=\"red\")\n",
    "ax[1,0].set_ylabel(\"Patients Enrolled\")\n",
    "ax[1,0].set_xlabel(\"Site-Facing Products\")\n",
    "ax[1,1].set_xlabel(\"Patient-Facing Products\")\n",
    "ax[1,2].set_xlabel(\"Total Products\")\n",
    "plt.show()"
   ]
  },
  {
   "cell_type": "code",
   "execution_count": 35,
   "id": "7994b4a8-38d2-46fb-be96-d7104c778762",
   "metadata": {},
   "outputs": [
    {
     "name": "stdout",
     "output_type": "stream",
     "text": [
      "Study length and site-facing products: [0.56222005 1.        ]\n",
      "Study length and patient-facing products: [0.06919112 1.        ]\n",
      "Study length and total products: [0.4341736 1.       ]\n",
      "Patients enrolled and site-facing products: [-0.12915705  1.        ]\n",
      "Patients enrolled and patient-facing products: [0.26098943 1.        ]\n",
      "Patients enrolled and total products: [0.03305747 1.        ]\n"
     ]
    }
   ],
   "source": [
    "#Assessing relationships visualised above by getting correlation coefficients\n",
    "site_facing_np = np.array(trials_df[\"Site-FacingProducts\"])\n",
    "patient_facing_np = np.array(trials_df[\"Patient-FacingProducts\"])\n",
    "total_np = np.array(trials_df[\"TotalProducts\"])\n",
    "study_length_np = np.array(trials_df[\"StudyLength\"])\n",
    "enrolled_np = np.array(trials_df[\"EnrollmentCount\"])\n",
    "\n",
    "print(f\"Study length and site-facing products: {np.corrcoef(study_length_np, site_facing_np)[1]}\")\n",
    "print(f\"Study length and patient-facing products: {np.corrcoef(study_length_np, patient_facing_np)[1]}\")\n",
    "print(f\"Study length and total products: {np.corrcoef(study_length_np, total_np)[1]}\")\n",
    "print(f\"Patients enrolled and site-facing products: {np.corrcoef(enrolled_np, site_facing_np)[1]}\")\n",
    "print(f\"Patients enrolled and patient-facing products: {np.corrcoef(enrolled_np, patient_facing_np)[1]}\")\n",
    "print(f\"Patients enrolled and total products: {np.corrcoef(enrolled_np, total_np)[1]}\")"
   ]
  },
  {
   "cell_type": "code",
   "execution_count": 36,
   "id": "7f6bf473-8424-4c5a-88f9-9290c801f122",
   "metadata": {},
   "outputs": [
    {
     "data": {
      "text/plain": [
       "INDUSTRY    86\n",
       "OTHER        6\n",
       "NIH          1\n",
       "Name: LeadSponsorClass, dtype: Int64"
      ]
     },
     "execution_count": 36,
     "metadata": {},
     "output_type": "execute_result"
    }
   ],
   "source": [
    "#Exploring types of sponsors in dataset.\n",
    "trials_df[\"LeadSponsorClass\"].value_counts()"
   ]
  },
  {
   "cell_type": "code",
   "execution_count": 37,
   "id": "8b6f67da-31d3-418e-9719-68aaf9ad7c82",
   "metadata": {},
   "outputs": [
    {
     "data": {
      "image/png": "[encoded data removed]",
      "text/plain": [
       "<Figure size 640x480 with 3 Axes>"
      ]
     },
     "metadata": {},
     "output_type": "display_data"
    }
   ],
   "source": [
    "#Examining categorical variable, sponsor type/class, against products sold to assess relationships.\n",
    "fig, ax = plt.subplots(3,1, sharex=True)\n",
    "ax[0].bar(trials_df[\"LeadSponsorClass\"], trials_df[\"Site-FacingProducts\"])\n",
    "ax[1].bar(trials_df[\"LeadSponsorClass\"], trials_df[\"Patient-FacingProducts\"])\n",
    "ax[2].bar(trials_df[\"LeadSponsorClass\"], trials_df[\"TotalProducts\"])\n",
    "ax[0].set_ylabel(\"Site-Facing\")\n",
    "ax[1].set_ylabel(\"Patient-Facing\")\n",
    "ax[2].set_ylabel(\"Total\")\n",
    "ax[2].set_xlabel(\"Sponsor Type\")\n",
    "plt.show()"
   ]
  },
  {
   "cell_type": "code",
   "execution_count": 38,
   "id": "de6c1318-06f2-4d71-ab4e-3076cb12da15",
   "metadata": {},
   "outputs": [
    {
     "name": "stdout",
     "output_type": "stream",
     "text": [
      "                 Site-FacingProducts                                          \\\n",
      "                               count      mean       std  min  25%  50%  75%   \n",
      "LeadSponsorClass                                                               \n",
      "INDUSTRY                        86.0  3.709302  1.186852  0.0  3.0  4.0  5.0   \n",
      "NIH                              1.0  3.000000       NaN  3.0  3.0  3.0  3.0   \n",
      "OTHER                            6.0  3.333333  1.032796  2.0  2.5  4.0  4.0   \n",
      "\n",
      "                      Patient-FacingProducts            ... EnrollmentCount  \\\n",
      "                  max                  count      mean  ...             75%   \n",
      "LeadSponsorClass                                        ...                   \n",
      "INDUSTRY          5.0                   86.0  1.511628  ...           184.5   \n",
      "NIH               3.0                    1.0  0.000000  ...           361.0   \n",
      "OTHER             4.0                    6.0  1.000000  ...           333.0   \n",
      "\n",
      "                         StudyLength                                         \\\n",
      "                     max       count        mean         std    min     25%   \n",
      "LeadSponsorClass                                                              \n",
      "INDUSTRY          1359.0        86.0  393.104651  348.308688   57.0  182.25   \n",
      "NIH                361.0         1.0  174.000000         NaN  174.0  174.00   \n",
      "OTHER              800.0         6.0  613.000000  624.192919  194.0  264.00   \n",
      "\n",
      "                                        \n",
      "                    50%    75%     max  \n",
      "LeadSponsorClass                        \n",
      "INDUSTRY          284.0  422.5  1961.0  \n",
      "NIH               174.0  174.0   174.0  \n",
      "OTHER             333.5  646.0  1826.0  \n",
      "\n",
      "[3 rows x 40 columns]\n"
     ]
    }
   ],
   "source": [
    "#Grouping trials_df and getting descriptive statistics for the groups.\n",
    "grouped = trials_df.groupby(\"LeadSponsorClass\")\n",
    "print(grouped.describe())"
   ]
  },
  {
   "cell_type": "code",
   "execution_count": 39,
   "id": "3dfd1f25-d63a-4642-b3b5-5bb4593c4c8d",
   "metadata": {},
   "outputs": [],
   "source": [
    "#Creating a subset of dataframes according to sponsor type.\n",
    "industry_df = trials_df[trials_df[\"LeadSponsorClass\"] == \"INDUSTRY\"]\n",
    "nih_df = trials_df[trials_df[\"LeadSponsorClass\"] == \"NIH\"]\n",
    "other_df = trials_df[trials_df[\"LeadSponsorClass\"] == \"OTHER\"]"
   ]
  },
  {
   "cell_type": "code",
   "execution_count": 40,
   "id": "6e2beb4f-4414-4885-b10c-5799991954a5",
   "metadata": {},
   "outputs": [
    {
     "data": {
      "image/png": "[encoded data removed]",
      "text/plain": [
       "<Figure size 640x480 with 3 Axes>"
      ]
     },
     "metadata": {},
     "output_type": "display_data"
    }
   ],
   "source": [
    "#Creating boxplots to visualise sales of products across funding type.\n",
    "fix, ax = plt.subplots(3,1)\n",
    "ax[0].boxplot([industry_df[\"Site-FacingProducts\"], nih_df[\"Site-FacingProducts\"], other_df[\"Site-FacingProducts\"]])\n",
    "ax[0].set_xticklabels([\"Industry\", \"NIH\", \"Other\"])\n",
    "ax[0].set_ylabel(\"Site-Facing\")\n",
    "\n",
    "ax[1].boxplot([industry_df[\"Patient-FacingProducts\"], nih_df[\"Patient-FacingProducts\"], other_df[\"Patient-FacingProducts\"]])\n",
    "ax[1].set_xticklabels([\"Industry\", \"NIH\", \"Other\"])\n",
    "ax[1].set_ylabel(\"Patient-Facing\")\n",
    "\n",
    "ax[2].boxplot([industry_df[\"TotalProducts\"], nih_df[\"TotalProducts\"], other_df[\"TotalProducts\"]])\n",
    "ax[2].set_xticklabels([\"Industry\", \"NIH\", \"Other\"])\n",
    "ax[2].set_ylabel(\"Total\")\n",
    "\n",
    "plt.show()"
   ]
  }
 ],
 "metadata": {
  "kernelspec": {
   "display_name": "Python 3 (ipykernel)",
   "language": "python",
   "name": "python3"
  },
  "language_info": {
   "codemirror_mode": {
    "name": "ipython",
    "version": 3
   },
   "file_extension": ".py",
   "mimetype": "text/x-python",
   "name": "python",
   "nbconvert_exporter": "python",
   "pygments_lexer": "ipython3",
   "version": "3.10.9"
  }
 },
 "nbformat": 4,
 "nbformat_minor": 5
}
