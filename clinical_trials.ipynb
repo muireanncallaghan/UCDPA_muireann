{
 "cells": [
  {
   "cell_type": "code",
   "execution_count": 34,
   "id": "98b98de0-5136-4ce0-af2c-0df94b4488b9",
   "metadata": {},
   "outputs": [],
   "source": [
    "#Import pandas for dataframes as pd\n",
    "import pandas as pd\n",
    "\n",
    "#Import datetime module for manipulating dates and times as dt\n",
    "import datetime as dt\n",
    "\n",
    "#Import request to allow for connections to APIs\n",
    "import requests\n",
    "\n",
    "#Import json package\n",
    "import json\n",
    "\n",
    "#Import matplotlib and seaborn for visualisations\n",
    "from matplotlib import pyplot as plt\n",
    "import seaborn as sns"
   ]
  },
  {
   "cell_type": "code",
   "execution_count": 2,
   "id": "f1dccc8c-796f-4ebd-a1f7-4ece941e89df",
   "metadata": {},
   "outputs": [],
   "source": [
    "#Obtaining data from clinicaltrials.gov API (in two parts due to API restrictions)\n",
    "url_1 = 'https://clinicaltrials.gov/api/query/study_fields?expr=AREA[StudyType]Interventional+AREA[OverallStatus]Completed+AREA[HealthyVolunteers]No+AREA[PrimaryCompletionDate]RANGE[01/01/2013,%20MAX]&min_rnk=1&max_rnk=1000&fmt=JSON&fields=NCTId,BriefTitle,Condition,ArmGroupInterventionName,LeadSponsorName,LeadSponsorClass,EnrollmentCount,StartDate,PrimaryCompletionDate'\n",
    "url_2 = 'https://clinicaltrials.gov/api/query/study_fields?expr=AREA[StudyType]Interventional+AREA[OverallStatus]Completed+AREA[HealthyVolunteers]No+AREA[PrimaryCompletionDate]RANGE[01/01/2013,%20MAX]&min_rnk=1001&max_rnk=2000&fmt=JSON&fields=NCTId,BriefTitle,Condition,ArmGroupInterventionName,LeadSponsorName,LeadSponsorClass,EnrollmentCount,StartDate,PrimaryCompletionDate'\n",
    "r_1 = requests.get(url_1)\n",
    "r_2 = requests.get(url_2)\n",
    "json_data_1 = r_1.json()\n",
    "json_data_2 = r_2.json()"
   ]
  },
  {
   "cell_type": "code",
   "execution_count": 3,
   "id": "76f8031a-6fbf-4cb5-892e-5e20bd9bcf56",
   "metadata": {},
   "outputs": [
    {
     "name": "stdout",
     "output_type": "stream",
     "text": [
      "<class 'dict'>\n",
      "dict_keys(['StudyFieldsResponse'])\n"
     ]
    }
   ],
   "source": [
    "#Checking format and keys of imported data above\n",
    "print(type(json_data_1))\n",
    "print(json_data_1.keys())"
   ]
  },
  {
   "cell_type": "code",
   "execution_count": 4,
   "id": "da9c84e0-f701-4200-a14b-52a6851e17e5",
   "metadata": {},
   "outputs": [
    {
     "name": "stdout",
     "output_type": "stream",
     "text": [
      "<class 'dict'>\n",
      "dict_keys(['APIVrs', 'DataVrs', 'Expression', 'NStudiesAvail', 'NStudiesFound', 'MinRank', 'MaxRank', 'NStudiesReturned', 'FieldList', 'StudyFields'])\n"
     ]
    }
   ],
   "source": [
    "#Further investigating structure of imported data \n",
    "print(type(json_data_1['StudyFieldsResponse']))\n",
    "print(json_data_1['StudyFieldsResponse'].keys())"
   ]
  },
  {
   "cell_type": "code",
   "execution_count": 5,
   "id": "c1f11aa5-ca32-4d62-aef0-ac1eed62aa68",
   "metadata": {},
   "outputs": [
    {
     "name": "stdout",
     "output_type": "stream",
     "text": [
      "<class 'list'>\n",
      "{'Rank': 1, 'NCTId': ['NCT05919732'], 'BriefTitle': ['Awake Caudal Catheter Infusion Versus General Anesthesia'], 'Condition': ['Inguinal Hernia'], 'ArmGroupInterventionName': ['Drug: Bupivacaine and epinephrine infusion', 'Drug: Bupivacaine and epinephrine infusion'], 'LeadSponsorName': [\"Nemours Children's Clinic\"], 'LeadSponsorClass': ['OTHER'], 'EnrollmentCount': ['40'], 'StartDate': ['March 8, 2016'], 'PrimaryCompletionDate': ['March 8, 2018']}\n"
     ]
    }
   ],
   "source": [
    "#Investigating data important under 'StudyFields' in imported data and printing first row.\n",
    "print(type(json_data_1['StudyFieldsResponse']['StudyFields']))\n",
    "print(json_data_1['StudyFieldsResponse']['StudyFields'][0])"
   ]
  },
  {
   "cell_type": "code",
   "execution_count": 6,
   "id": "e0904639-efea-430f-844f-caf120ec401b",
   "metadata": {},
   "outputs": [
    {
     "name": "stdout",
     "output_type": "stream",
     "text": [
      "{'Rank': 1, 'NCTId': ['NCT05919732'], 'BriefTitle': ['Awake Caudal Catheter Infusion Versus General Anesthesia'], 'Condition': ['Inguinal Hernia'], 'ArmGroupInterventionName': ['Drug: Bupivacaine and epinephrine infusion', 'Drug: Bupivacaine and epinephrine infusion'], 'LeadSponsorName': [\"Nemours Children's Clinic\"], 'LeadSponsorClass': ['OTHER'], 'EnrollmentCount': ['40'], 'StartDate': ['March 8, 2016'], 'PrimaryCompletionDate': ['March 8, 2018']}\n",
      "{'Rank': 2000, 'NCTId': ['NCT05408585'], 'BriefTitle': ['MEC90 for Supra-inguinal Fascia Iliaca Block Performed Under Ultrasound Guidance in Arthroscopic Knee Surgery'], 'Condition': ['Pain Management'], 'ArmGroupInterventionName': ['Other: Regional Anesthesia Techniques', 'Other: Regional Anesthesia Techniques'], 'LeadSponsorName': ['Samsun University'], 'LeadSponsorClass': ['OTHER'], 'EnrollmentCount': ['65'], 'StartDate': ['June 7, 2022'], 'PrimaryCompletionDate': ['February 27, 2023']}\n"
     ]
    }
   ],
   "source": [
    "#Append the two imported datasets, i.e. the lists located under 'StudyFields' key in json_data_1 and json_data_2.\n",
    "trials = json_data_1['StudyFieldsResponse']['StudyFields'] + json_data_2['StudyFieldsResponse']['StudyFields']\n",
    "print(trials[0])\n",
    "print(trials[-1])"
   ]
  },
  {
   "cell_type": "code",
   "execution_count": 7,
   "id": "c4c72fff-9d77-4f7b-ad40-7c1440e123eb",
   "metadata": {},
   "outputs": [],
   "source": [
    "#Creating a dataframe to work with.\n",
    "trials_df = pd.DataFrame(trials)"
   ]
  },
  {
   "cell_type": "markdown",
   "id": "af1fcfec-2aba-4c5f-9f6b-a7c893508992",
   "metadata": {},
   "source": [
    "# Exploring and Cleaning the DataFrame"
   ]
  },
  {
   "cell_type": "code",
   "execution_count": 8,
   "id": "827d3745-20ef-4e9a-8312-ea5977c455a0",
   "metadata": {},
   "outputs": [
    {
     "data": {
      "text/html": [
       "<div>\n",
       "<style scoped>\n",
       "    .dataframe tbody tr th:only-of-type {\n",
       "        vertical-align: middle;\n",
       "    }\n",
       "\n",
       "    .dataframe tbody tr th {\n",
       "        vertical-align: top;\n",
       "    }\n",
       "\n",
       "    .dataframe thead th {\n",
       "        text-align: right;\n",
       "    }\n",
       "</style>\n",
       "<table border=\"1\" class=\"dataframe\">\n",
       "  <thead>\n",
       "    <tr style=\"text-align: right;\">\n",
       "      <th></th>\n",
       "      <th>Rank</th>\n",
       "      <th>NCTId</th>\n",
       "      <th>BriefTitle</th>\n",
       "      <th>Condition</th>\n",
       "      <th>ArmGroupInterventionName</th>\n",
       "      <th>LeadSponsorName</th>\n",
       "      <th>LeadSponsorClass</th>\n",
       "      <th>EnrollmentCount</th>\n",
       "      <th>StartDate</th>\n",
       "      <th>PrimaryCompletionDate</th>\n",
       "    </tr>\n",
       "  </thead>\n",
       "  <tbody>\n",
       "    <tr>\n",
       "      <th>0</th>\n",
       "      <td>1</td>\n",
       "      <td>[NCT05919732]</td>\n",
       "      <td>[Awake Caudal Catheter Infusion Versus General...</td>\n",
       "      <td>[Inguinal Hernia]</td>\n",
       "      <td>[Drug: Bupivacaine and epinephrine infusion, D...</td>\n",
       "      <td>[Nemours Children's Clinic]</td>\n",
       "      <td>[OTHER]</td>\n",
       "      <td>[40]</td>\n",
       "      <td>[March 8, 2016]</td>\n",
       "      <td>[March 8, 2018]</td>\n",
       "    </tr>\n",
       "    <tr>\n",
       "      <th>1</th>\n",
       "      <td>2</td>\n",
       "      <td>[NCT05919706]</td>\n",
       "      <td>[Mobile Technology and Motivational Interviewi...</td>\n",
       "      <td>[Type 2 Diabetes Mellitus, Gaming, Motivationa...</td>\n",
       "      <td>[Behavioral: Patient Education with Game-Based...</td>\n",
       "      <td>[Inonu University]</td>\n",
       "      <td>[OTHER]</td>\n",
       "      <td>[64]</td>\n",
       "      <td>[October 6, 2022]</td>\n",
       "      <td>[February 3, 2023]</td>\n",
       "    </tr>\n",
       "    <tr>\n",
       "      <th>2</th>\n",
       "      <td>3</td>\n",
       "      <td>[NCT05919186]</td>\n",
       "      <td>[Effects of Antioxidant Supplementation of Cul...</td>\n",
       "      <td>[Infertility, Female, Infertility, Male]</td>\n",
       "      <td>[Drug: EmbryORP®, Device: O2 tension 20%, Drug...</td>\n",
       "      <td>[Liliana Berenice Ramírez Domínguez]</td>\n",
       "      <td>[INDUSTRY]</td>\n",
       "      <td>[293]</td>\n",
       "      <td>[October 12, 2021]</td>\n",
       "      <td>[April 12, 2022]</td>\n",
       "    </tr>\n",
       "    <tr>\n",
       "      <th>3</th>\n",
       "      <td>4</td>\n",
       "      <td>[NCT05918731]</td>\n",
       "      <td>[Self-management in Chronic Obstructive Pulmon...</td>\n",
       "      <td>[Chronic Obstructive Pulmonary Disease]</td>\n",
       "      <td>[Behavioral: Self Management]</td>\n",
       "      <td>[University of Crete]</td>\n",
       "      <td>[OTHER]</td>\n",
       "      <td>[120]</td>\n",
       "      <td>[April 1, 2020]</td>\n",
       "      <td>[August 30, 2020]</td>\n",
       "    </tr>\n",
       "    <tr>\n",
       "      <th>4</th>\n",
       "      <td>5</td>\n",
       "      <td>[NCT05918224]</td>\n",
       "      <td>[Streptococcus Salivarius K12 for Prevention a...</td>\n",
       "      <td>[Head and Neck Squamous Cell Carcinoma]</td>\n",
       "      <td>[Drug: Streptococcus salivarius K12, Drug: Str...</td>\n",
       "      <td>[West China Hospital]</td>\n",
       "      <td>[OTHER]</td>\n",
       "      <td>[160]</td>\n",
       "      <td>[January 1, 2022]</td>\n",
       "      <td>[November 30, 2022]</td>\n",
       "    </tr>\n",
       "  </tbody>\n",
       "</table>\n",
       "</div>"
      ],
      "text/plain": [
       "   Rank          NCTId                                         BriefTitle  \\\n",
       "0     1  [NCT05919732]  [Awake Caudal Catheter Infusion Versus General...   \n",
       "1     2  [NCT05919706]  [Mobile Technology and Motivational Interviewi...   \n",
       "2     3  [NCT05919186]  [Effects of Antioxidant Supplementation of Cul...   \n",
       "3     4  [NCT05918731]  [Self-management in Chronic Obstructive Pulmon...   \n",
       "4     5  [NCT05918224]  [Streptococcus Salivarius K12 for Prevention a...   \n",
       "\n",
       "                                           Condition  \\\n",
       "0                                  [Inguinal Hernia]   \n",
       "1  [Type 2 Diabetes Mellitus, Gaming, Motivationa...   \n",
       "2           [Infertility, Female, Infertility, Male]   \n",
       "3            [Chronic Obstructive Pulmonary Disease]   \n",
       "4            [Head and Neck Squamous Cell Carcinoma]   \n",
       "\n",
       "                            ArmGroupInterventionName  \\\n",
       "0  [Drug: Bupivacaine and epinephrine infusion, D...   \n",
       "1  [Behavioral: Patient Education with Game-Based...   \n",
       "2  [Drug: EmbryORP®, Device: O2 tension 20%, Drug...   \n",
       "3                      [Behavioral: Self Management]   \n",
       "4  [Drug: Streptococcus salivarius K12, Drug: Str...   \n",
       "\n",
       "                        LeadSponsorName LeadSponsorClass EnrollmentCount  \\\n",
       "0           [Nemours Children's Clinic]          [OTHER]            [40]   \n",
       "1                    [Inonu University]          [OTHER]            [64]   \n",
       "2  [Liliana Berenice Ramírez Domínguez]       [INDUSTRY]           [293]   \n",
       "3                 [University of Crete]          [OTHER]           [120]   \n",
       "4                 [West China Hospital]          [OTHER]           [160]   \n",
       "\n",
       "            StartDate PrimaryCompletionDate  \n",
       "0     [March 8, 2016]       [March 8, 2018]  \n",
       "1   [October 6, 2022]    [February 3, 2023]  \n",
       "2  [October 12, 2021]      [April 12, 2022]  \n",
       "3     [April 1, 2020]     [August 30, 2020]  \n",
       "4   [January 1, 2022]   [November 30, 2022]  "
      ]
     },
     "execution_count": 8,
     "metadata": {},
     "output_type": "execute_result"
    }
   ],
   "source": [
    "#Look at first 5 rows of data to get a better sense of the dataset.\n",
    "trials_df.head()"
   ]
  },
  {
   "cell_type": "code",
   "execution_count": 9,
   "id": "1968ae81-0b7c-4323-b033-8d60fc2dc631",
   "metadata": {},
   "outputs": [
    {
     "data": {
      "text/html": [
       "<div>\n",
       "<style scoped>\n",
       "    .dataframe tbody tr th:only-of-type {\n",
       "        vertical-align: middle;\n",
       "    }\n",
       "\n",
       "    .dataframe tbody tr th {\n",
       "        vertical-align: top;\n",
       "    }\n",
       "\n",
       "    .dataframe thead th {\n",
       "        text-align: right;\n",
       "    }\n",
       "</style>\n",
       "<table border=\"1\" class=\"dataframe\">\n",
       "  <thead>\n",
       "    <tr style=\"text-align: right;\">\n",
       "      <th></th>\n",
       "      <th>NCTId</th>\n",
       "      <th>BriefTitle</th>\n",
       "      <th>Condition</th>\n",
       "      <th>ArmGroupInterventionName</th>\n",
       "      <th>LeadSponsorName</th>\n",
       "      <th>LeadSponsorClass</th>\n",
       "      <th>EnrollmentCount</th>\n",
       "      <th>StartDate</th>\n",
       "      <th>PrimaryCompletionDate</th>\n",
       "    </tr>\n",
       "  </thead>\n",
       "  <tbody>\n",
       "    <tr>\n",
       "      <th>0</th>\n",
       "      <td>[NCT05919732]</td>\n",
       "      <td>[Awake Caudal Catheter Infusion Versus General...</td>\n",
       "      <td>[Inguinal Hernia]</td>\n",
       "      <td>[Drug: Bupivacaine and epinephrine infusion, D...</td>\n",
       "      <td>[Nemours Children's Clinic]</td>\n",
       "      <td>[OTHER]</td>\n",
       "      <td>[40]</td>\n",
       "      <td>[March 8, 2016]</td>\n",
       "      <td>[March 8, 2018]</td>\n",
       "    </tr>\n",
       "    <tr>\n",
       "      <th>1</th>\n",
       "      <td>[NCT05919706]</td>\n",
       "      <td>[Mobile Technology and Motivational Interviewi...</td>\n",
       "      <td>[Type 2 Diabetes Mellitus, Gaming, Motivationa...</td>\n",
       "      <td>[Behavioral: Patient Education with Game-Based...</td>\n",
       "      <td>[Inonu University]</td>\n",
       "      <td>[OTHER]</td>\n",
       "      <td>[64]</td>\n",
       "      <td>[October 6, 2022]</td>\n",
       "      <td>[February 3, 2023]</td>\n",
       "    </tr>\n",
       "    <tr>\n",
       "      <th>2</th>\n",
       "      <td>[NCT05919186]</td>\n",
       "      <td>[Effects of Antioxidant Supplementation of Cul...</td>\n",
       "      <td>[Infertility, Female, Infertility, Male]</td>\n",
       "      <td>[Drug: EmbryORP®, Device: O2 tension 20%, Drug...</td>\n",
       "      <td>[Liliana Berenice Ramírez Domínguez]</td>\n",
       "      <td>[INDUSTRY]</td>\n",
       "      <td>[293]</td>\n",
       "      <td>[October 12, 2021]</td>\n",
       "      <td>[April 12, 2022]</td>\n",
       "    </tr>\n",
       "    <tr>\n",
       "      <th>3</th>\n",
       "      <td>[NCT05918731]</td>\n",
       "      <td>[Self-management in Chronic Obstructive Pulmon...</td>\n",
       "      <td>[Chronic Obstructive Pulmonary Disease]</td>\n",
       "      <td>[Behavioral: Self Management]</td>\n",
       "      <td>[University of Crete]</td>\n",
       "      <td>[OTHER]</td>\n",
       "      <td>[120]</td>\n",
       "      <td>[April 1, 2020]</td>\n",
       "      <td>[August 30, 2020]</td>\n",
       "    </tr>\n",
       "    <tr>\n",
       "      <th>4</th>\n",
       "      <td>[NCT05918224]</td>\n",
       "      <td>[Streptococcus Salivarius K12 for Prevention a...</td>\n",
       "      <td>[Head and Neck Squamous Cell Carcinoma]</td>\n",
       "      <td>[Drug: Streptococcus salivarius K12, Drug: Str...</td>\n",
       "      <td>[West China Hospital]</td>\n",
       "      <td>[OTHER]</td>\n",
       "      <td>[160]</td>\n",
       "      <td>[January 1, 2022]</td>\n",
       "      <td>[November 30, 2022]</td>\n",
       "    </tr>\n",
       "  </tbody>\n",
       "</table>\n",
       "</div>"
      ],
      "text/plain": [
       "           NCTId                                         BriefTitle  \\\n",
       "0  [NCT05919732]  [Awake Caudal Catheter Infusion Versus General...   \n",
       "1  [NCT05919706]  [Mobile Technology and Motivational Interviewi...   \n",
       "2  [NCT05919186]  [Effects of Antioxidant Supplementation of Cul...   \n",
       "3  [NCT05918731]  [Self-management in Chronic Obstructive Pulmon...   \n",
       "4  [NCT05918224]  [Streptococcus Salivarius K12 for Prevention a...   \n",
       "\n",
       "                                           Condition  \\\n",
       "0                                  [Inguinal Hernia]   \n",
       "1  [Type 2 Diabetes Mellitus, Gaming, Motivationa...   \n",
       "2           [Infertility, Female, Infertility, Male]   \n",
       "3            [Chronic Obstructive Pulmonary Disease]   \n",
       "4            [Head and Neck Squamous Cell Carcinoma]   \n",
       "\n",
       "                            ArmGroupInterventionName  \\\n",
       "0  [Drug: Bupivacaine and epinephrine infusion, D...   \n",
       "1  [Behavioral: Patient Education with Game-Based...   \n",
       "2  [Drug: EmbryORP®, Device: O2 tension 20%, Drug...   \n",
       "3                      [Behavioral: Self Management]   \n",
       "4  [Drug: Streptococcus salivarius K12, Drug: Str...   \n",
       "\n",
       "                        LeadSponsorName LeadSponsorClass EnrollmentCount  \\\n",
       "0           [Nemours Children's Clinic]          [OTHER]            [40]   \n",
       "1                    [Inonu University]          [OTHER]            [64]   \n",
       "2  [Liliana Berenice Ramírez Domínguez]       [INDUSTRY]           [293]   \n",
       "3                 [University of Crete]          [OTHER]           [120]   \n",
       "4                 [West China Hospital]          [OTHER]           [160]   \n",
       "\n",
       "            StartDate PrimaryCompletionDate  \n",
       "0     [March 8, 2016]       [March 8, 2018]  \n",
       "1   [October 6, 2022]    [February 3, 2023]  \n",
       "2  [October 12, 2021]      [April 12, 2022]  \n",
       "3     [April 1, 2020]     [August 30, 2020]  \n",
       "4   [January 1, 2022]   [November 30, 2022]  "
      ]
     },
     "execution_count": 9,
     "metadata": {},
     "output_type": "execute_result"
    }
   ],
   "source": [
    "#Dropping the rank column as this is of no interest.\n",
    "trials_df.drop('Rank', inplace=True, axis=1)\n",
    "trials_df.head()"
   ]
  },
  {
   "cell_type": "code",
   "execution_count": 10,
   "id": "6240dabc-c153-46f3-8dab-bf403e230b39",
   "metadata": {},
   "outputs": [
    {
     "name": "stdout",
     "output_type": "stream",
     "text": [
      "<class 'pandas.core.frame.DataFrame'>\n",
      "RangeIndex: 2000 entries, 0 to 1999\n",
      "Data columns (total 9 columns):\n",
      " #   Column                    Non-Null Count  Dtype \n",
      "---  ------                    --------------  ----- \n",
      " 0   NCTId                     2000 non-null   object\n",
      " 1   BriefTitle                2000 non-null   object\n",
      " 2   Condition                 2000 non-null   object\n",
      " 3   ArmGroupInterventionName  2000 non-null   object\n",
      " 4   LeadSponsorName           2000 non-null   object\n",
      " 5   LeadSponsorClass          2000 non-null   object\n",
      " 6   EnrollmentCount           2000 non-null   object\n",
      " 7   StartDate                 2000 non-null   object\n",
      " 8   PrimaryCompletionDate     2000 non-null   object\n",
      "dtypes: object(9)\n",
      "memory usage: 140.8+ KB\n"
     ]
    }
   ],
   "source": [
    "#Finding out number of data entries, columns, data types, and assessing quality of dataset (no. blank cells)\n",
    "trials_df.info()"
   ]
  },
  {
   "cell_type": "code",
   "execution_count": 11,
   "id": "5ccef34a-c949-4e20-bbc2-55c716d3ed85",
   "metadata": {},
   "outputs": [
    {
     "data": {
      "text/plain": [
       "NCTId                       False\n",
       "BriefTitle                  False\n",
       "Condition                   False\n",
       "ArmGroupInterventionName    False\n",
       "LeadSponsorName             False\n",
       "LeadSponsorClass            False\n",
       "EnrollmentCount             False\n",
       "StartDate                   False\n",
       "PrimaryCompletionDate       False\n",
       "dtype: bool"
      ]
     },
     "execution_count": 11,
     "metadata": {},
     "output_type": "execute_result"
    }
   ],
   "source": [
    "#Confirming that there is no missing data. \n",
    "trials_df.isna().any()"
   ]
  },
  {
   "cell_type": "code",
   "execution_count": 12,
   "id": "abb389c0-f5e6-4609-8270-8bdfa2d748c0",
   "metadata": {},
   "outputs": [],
   "source": [
    "#Function that can be called to clean up the string objects in a dataframe by removing unnwanted characters.\n",
    "def clean_df_strings(self, *col_name):\n",
    "    for name in col_name:\n",
    "        self[name] = self[name].astype('string')\n",
    "        self[name] = self[name].str.replace(\"[\",\"\", regex=True).str.replace(\"]\",\"\", regex=True).str.strip(\"'\")"
   ]
  },
  {
   "cell_type": "code",
   "execution_count": 13,
   "id": "2792dadb-7571-49c0-a1f1-79cb58547b7d",
   "metadata": {},
   "outputs": [
    {
     "data": {
      "text/html": [
       "<div>\n",
       "<style scoped>\n",
       "    .dataframe tbody tr th:only-of-type {\n",
       "        vertical-align: middle;\n",
       "    }\n",
       "\n",
       "    .dataframe tbody tr th {\n",
       "        vertical-align: top;\n",
       "    }\n",
       "\n",
       "    .dataframe thead th {\n",
       "        text-align: right;\n",
       "    }\n",
       "</style>\n",
       "<table border=\"1\" class=\"dataframe\">\n",
       "  <thead>\n",
       "    <tr style=\"text-align: right;\">\n",
       "      <th></th>\n",
       "      <th>NCTId</th>\n",
       "      <th>BriefTitle</th>\n",
       "      <th>Condition</th>\n",
       "      <th>ArmGroupInterventionName</th>\n",
       "      <th>LeadSponsorName</th>\n",
       "      <th>LeadSponsorClass</th>\n",
       "      <th>EnrollmentCount</th>\n",
       "      <th>StartDate</th>\n",
       "      <th>PrimaryCompletionDate</th>\n",
       "    </tr>\n",
       "  </thead>\n",
       "  <tbody>\n",
       "    <tr>\n",
       "      <th>0</th>\n",
       "      <td>NCT05919732</td>\n",
       "      <td>Awake Caudal Catheter Infusion Versus General ...</td>\n",
       "      <td>Inguinal Hernia</td>\n",
       "      <td>Drug: Bupivacaine and epinephrine infusion', '...</td>\n",
       "      <td>\"Nemours Children's Clinic\"</td>\n",
       "      <td>OTHER</td>\n",
       "      <td>40</td>\n",
       "      <td>March 8, 2016</td>\n",
       "      <td>March 8, 2018</td>\n",
       "    </tr>\n",
       "    <tr>\n",
       "      <th>1</th>\n",
       "      <td>NCT05919706</td>\n",
       "      <td>Mobile Technology and Motivational Interviewin...</td>\n",
       "      <td>Type 2 Diabetes Mellitus', 'Gaming', 'Motivati...</td>\n",
       "      <td>Behavioral: Patient Education with Game-Based ...</td>\n",
       "      <td>Inonu University</td>\n",
       "      <td>OTHER</td>\n",
       "      <td>64</td>\n",
       "      <td>October 6, 2022</td>\n",
       "      <td>February 3, 2023</td>\n",
       "    </tr>\n",
       "    <tr>\n",
       "      <th>2</th>\n",
       "      <td>NCT05919186</td>\n",
       "      <td>Effects of Antioxidant Supplementation of Cult...</td>\n",
       "      <td>Infertility, Female', 'Infertility, Male</td>\n",
       "      <td>Drug: EmbryORP®', 'Device: O2 tension 20%', 'D...</td>\n",
       "      <td>Liliana Berenice Ramírez Domínguez</td>\n",
       "      <td>INDUSTRY</td>\n",
       "      <td>293</td>\n",
       "      <td>October 12, 2021</td>\n",
       "      <td>April 12, 2022</td>\n",
       "    </tr>\n",
       "    <tr>\n",
       "      <th>3</th>\n",
       "      <td>NCT05918731</td>\n",
       "      <td>Self-management in Chronic Obstructive Pulmona...</td>\n",
       "      <td>Chronic Obstructive Pulmonary Disease</td>\n",
       "      <td>Behavioral: Self Management</td>\n",
       "      <td>University of Crete</td>\n",
       "      <td>OTHER</td>\n",
       "      <td>120</td>\n",
       "      <td>April 1, 2020</td>\n",
       "      <td>August 30, 2020</td>\n",
       "    </tr>\n",
       "    <tr>\n",
       "      <th>4</th>\n",
       "      <td>NCT05918224</td>\n",
       "      <td>Streptococcus Salivarius K12 for Prevention an...</td>\n",
       "      <td>Head and Neck Squamous Cell Carcinoma</td>\n",
       "      <td>Drug: Streptococcus salivarius K12', 'Drug: St...</td>\n",
       "      <td>West China Hospital</td>\n",
       "      <td>OTHER</td>\n",
       "      <td>160</td>\n",
       "      <td>January 1, 2022</td>\n",
       "      <td>November 30, 2022</td>\n",
       "    </tr>\n",
       "  </tbody>\n",
       "</table>\n",
       "</div>"
      ],
      "text/plain": [
       "         NCTId                                         BriefTitle  \\\n",
       "0  NCT05919732  Awake Caudal Catheter Infusion Versus General ...   \n",
       "1  NCT05919706  Mobile Technology and Motivational Interviewin...   \n",
       "2  NCT05919186  Effects of Antioxidant Supplementation of Cult...   \n",
       "3  NCT05918731  Self-management in Chronic Obstructive Pulmona...   \n",
       "4  NCT05918224  Streptococcus Salivarius K12 for Prevention an...   \n",
       "\n",
       "                                           Condition  \\\n",
       "0                                    Inguinal Hernia   \n",
       "1  Type 2 Diabetes Mellitus', 'Gaming', 'Motivati...   \n",
       "2           Infertility, Female', 'Infertility, Male   \n",
       "3              Chronic Obstructive Pulmonary Disease   \n",
       "4              Head and Neck Squamous Cell Carcinoma   \n",
       "\n",
       "                            ArmGroupInterventionName  \\\n",
       "0  Drug: Bupivacaine and epinephrine infusion', '...   \n",
       "1  Behavioral: Patient Education with Game-Based ...   \n",
       "2  Drug: EmbryORP®', 'Device: O2 tension 20%', 'D...   \n",
       "3                        Behavioral: Self Management   \n",
       "4  Drug: Streptococcus salivarius K12', 'Drug: St...   \n",
       "\n",
       "                      LeadSponsorName LeadSponsorClass EnrollmentCount  \\\n",
       "0         \"Nemours Children's Clinic\"            OTHER              40   \n",
       "1                    Inonu University            OTHER              64   \n",
       "2  Liliana Berenice Ramírez Domínguez         INDUSTRY             293   \n",
       "3                 University of Crete            OTHER             120   \n",
       "4                 West China Hospital            OTHER             160   \n",
       "\n",
       "          StartDate PrimaryCompletionDate  \n",
       "0     March 8, 2016         March 8, 2018  \n",
       "1   October 6, 2022      February 3, 2023  \n",
       "2  October 12, 2021        April 12, 2022  \n",
       "3     April 1, 2020       August 30, 2020  \n",
       "4   January 1, 2022     November 30, 2022  "
      ]
     },
     "execution_count": 13,
     "metadata": {},
     "output_type": "execute_result"
    }
   ],
   "source": [
    "#Removing unwanted characters from trials_df strings.\n",
    "clean_df_strings(trials_df, \"NCTId\", \"BriefTitle\", \"Condition\", \"ArmGroupInterventionName\", \"LeadSponsorName\", \"LeadSponsorClass\", \"EnrollmentCount\", \"StartDate\", \"PrimaryCompletionDate\")\n",
    "trials_df.head()"
   ]
  },
  {
   "cell_type": "code",
   "execution_count": 14,
   "id": "108b14f2-a2c8-458b-aa4c-221be1f165b6",
   "metadata": {},
   "outputs": [
    {
     "data": {
      "text/plain": [
       "NCTId                       string\n",
       "BriefTitle                  string\n",
       "Condition                   string\n",
       "ArmGroupInterventionName    string\n",
       "LeadSponsorName             string\n",
       "LeadSponsorClass            string\n",
       "EnrollmentCount              int32\n",
       "StartDate                   string\n",
       "PrimaryCompletionDate       string\n",
       "dtype: object"
      ]
     },
     "execution_count": 14,
     "metadata": {},
     "output_type": "execute_result"
    }
   ],
   "source": [
    "#Converting Enrollment to an integer and checking the type.\n",
    "trials_df['EnrollmentCount'] = trials_df['EnrollmentCount'].astype(int)\n",
    "trials_df.dtypes"
   ]
  },
  {
   "cell_type": "code",
   "execution_count": 15,
   "id": "dfa6c80d-247f-48c8-8383-c6a9b9999575",
   "metadata": {},
   "outputs": [
    {
     "name": "stdout",
     "output_type": "stream",
     "text": [
      "NCTId                               string\n",
      "BriefTitle                          string\n",
      "Condition                           string\n",
      "ArmGroupInterventionName            string\n",
      "LeadSponsorName                     string\n",
      "LeadSponsorClass                    string\n",
      "EnrollmentCount                      int32\n",
      "StartDate                   datetime64[ns]\n",
      "PrimaryCompletionDate       datetime64[ns]\n",
      "dtype: object\n"
     ]
    }
   ],
   "source": [
    "#Having seen the start and completion dates are not datetime, I want to convert now.\n",
    "trials_df[\"StartDate\"] = pd.to_datetime(trials_df[\"StartDate\"])\n",
    "trials_df[\"PrimaryCompletionDate\"] = pd.to_datetime(trials_df[\"PrimaryCompletionDate\"])\n",
    "print(trials_df.dtypes)"
   ]
  },
  {
   "cell_type": "code",
   "execution_count": 16,
   "id": "0c34fb0c-94ce-4c67-8556-b1f674de46f5",
   "metadata": {},
   "outputs": [
    {
     "data": {
      "text/html": [
       "<div>\n",
       "<style scoped>\n",
       "    .dataframe tbody tr th:only-of-type {\n",
       "        vertical-align: middle;\n",
       "    }\n",
       "\n",
       "    .dataframe tbody tr th {\n",
       "        vertical-align: top;\n",
       "    }\n",
       "\n",
       "    .dataframe thead th {\n",
       "        text-align: right;\n",
       "    }\n",
       "</style>\n",
       "<table border=\"1\" class=\"dataframe\">\n",
       "  <thead>\n",
       "    <tr style=\"text-align: right;\">\n",
       "      <th></th>\n",
       "      <th>NCTId</th>\n",
       "      <th>BriefTitle</th>\n",
       "      <th>Condition</th>\n",
       "      <th>ArmGroupInterventionName</th>\n",
       "      <th>LeadSponsorName</th>\n",
       "      <th>LeadSponsorClass</th>\n",
       "      <th>EnrollmentCount</th>\n",
       "      <th>StartDate</th>\n",
       "      <th>PrimaryCompletionDate</th>\n",
       "      <th>StudyLength</th>\n",
       "    </tr>\n",
       "  </thead>\n",
       "  <tbody>\n",
       "    <tr>\n",
       "      <th>0</th>\n",
       "      <td>NCT05919732</td>\n",
       "      <td>Awake Caudal Catheter Infusion Versus General ...</td>\n",
       "      <td>Inguinal Hernia</td>\n",
       "      <td>Drug: Bupivacaine and epinephrine infusion', '...</td>\n",
       "      <td>\"Nemours Children's Clinic\"</td>\n",
       "      <td>OTHER</td>\n",
       "      <td>40</td>\n",
       "      <td>2016-03-08</td>\n",
       "      <td>2018-03-08</td>\n",
       "      <td>730</td>\n",
       "    </tr>\n",
       "    <tr>\n",
       "      <th>1</th>\n",
       "      <td>NCT05919706</td>\n",
       "      <td>Mobile Technology and Motivational Interviewin...</td>\n",
       "      <td>Type 2 Diabetes Mellitus', 'Gaming', 'Motivati...</td>\n",
       "      <td>Behavioral: Patient Education with Game-Based ...</td>\n",
       "      <td>Inonu University</td>\n",
       "      <td>OTHER</td>\n",
       "      <td>64</td>\n",
       "      <td>2022-10-06</td>\n",
       "      <td>2023-02-03</td>\n",
       "      <td>120</td>\n",
       "    </tr>\n",
       "    <tr>\n",
       "      <th>2</th>\n",
       "      <td>NCT05919186</td>\n",
       "      <td>Effects of Antioxidant Supplementation of Cult...</td>\n",
       "      <td>Infertility, Female', 'Infertility, Male</td>\n",
       "      <td>Drug: EmbryORP®', 'Device: O2 tension 20%', 'D...</td>\n",
       "      <td>Liliana Berenice Ramírez Domínguez</td>\n",
       "      <td>INDUSTRY</td>\n",
       "      <td>293</td>\n",
       "      <td>2021-10-12</td>\n",
       "      <td>2022-04-12</td>\n",
       "      <td>182</td>\n",
       "    </tr>\n",
       "    <tr>\n",
       "      <th>3</th>\n",
       "      <td>NCT05918731</td>\n",
       "      <td>Self-management in Chronic Obstructive Pulmona...</td>\n",
       "      <td>Chronic Obstructive Pulmonary Disease</td>\n",
       "      <td>Behavioral: Self Management</td>\n",
       "      <td>University of Crete</td>\n",
       "      <td>OTHER</td>\n",
       "      <td>120</td>\n",
       "      <td>2020-04-01</td>\n",
       "      <td>2020-08-30</td>\n",
       "      <td>151</td>\n",
       "    </tr>\n",
       "    <tr>\n",
       "      <th>4</th>\n",
       "      <td>NCT05918224</td>\n",
       "      <td>Streptococcus Salivarius K12 for Prevention an...</td>\n",
       "      <td>Head and Neck Squamous Cell Carcinoma</td>\n",
       "      <td>Drug: Streptococcus salivarius K12', 'Drug: St...</td>\n",
       "      <td>West China Hospital</td>\n",
       "      <td>OTHER</td>\n",
       "      <td>160</td>\n",
       "      <td>2022-01-01</td>\n",
       "      <td>2022-11-30</td>\n",
       "      <td>333</td>\n",
       "    </tr>\n",
       "  </tbody>\n",
       "</table>\n",
       "</div>"
      ],
      "text/plain": [
       "         NCTId                                         BriefTitle  \\\n",
       "0  NCT05919732  Awake Caudal Catheter Infusion Versus General ...   \n",
       "1  NCT05919706  Mobile Technology and Motivational Interviewin...   \n",
       "2  NCT05919186  Effects of Antioxidant Supplementation of Cult...   \n",
       "3  NCT05918731  Self-management in Chronic Obstructive Pulmona...   \n",
       "4  NCT05918224  Streptococcus Salivarius K12 for Prevention an...   \n",
       "\n",
       "                                           Condition  \\\n",
       "0                                    Inguinal Hernia   \n",
       "1  Type 2 Diabetes Mellitus', 'Gaming', 'Motivati...   \n",
       "2           Infertility, Female', 'Infertility, Male   \n",
       "3              Chronic Obstructive Pulmonary Disease   \n",
       "4              Head and Neck Squamous Cell Carcinoma   \n",
       "\n",
       "                            ArmGroupInterventionName  \\\n",
       "0  Drug: Bupivacaine and epinephrine infusion', '...   \n",
       "1  Behavioral: Patient Education with Game-Based ...   \n",
       "2  Drug: EmbryORP®', 'Device: O2 tension 20%', 'D...   \n",
       "3                        Behavioral: Self Management   \n",
       "4  Drug: Streptococcus salivarius K12', 'Drug: St...   \n",
       "\n",
       "                      LeadSponsorName LeadSponsorClass  EnrollmentCount  \\\n",
       "0         \"Nemours Children's Clinic\"            OTHER               40   \n",
       "1                    Inonu University            OTHER               64   \n",
       "2  Liliana Berenice Ramírez Domínguez         INDUSTRY              293   \n",
       "3                 University of Crete            OTHER              120   \n",
       "4                 West China Hospital            OTHER              160   \n",
       "\n",
       "   StartDate PrimaryCompletionDate  StudyLength  \n",
       "0 2016-03-08            2018-03-08          730  \n",
       "1 2022-10-06            2023-02-03          120  \n",
       "2 2021-10-12            2022-04-12          182  \n",
       "3 2020-04-01            2020-08-30          151  \n",
       "4 2022-01-01            2022-11-30          333  "
      ]
     },
     "execution_count": 16,
     "metadata": {},
     "output_type": "execute_result"
    }
   ],
   "source": [
    "#Adding column to capture length of the study as number of days.\n",
    "trials_df[\"StudyLength\"] = (trials_df[\"PrimaryCompletionDate\"] - trials_df[\"StartDate\"]).dt.days"
   ]
  },
  {
   "cell_type": "code",
   "execution_count": 17,
   "id": "09c0b03e-2ad0-4e08-9962-98ca5ecbd79b",
   "metadata": {},
   "outputs": [
    {
     "data": {
      "text/html": [
       "<div>\n",
       "<style scoped>\n",
       "    .dataframe tbody tr th:only-of-type {\n",
       "        vertical-align: middle;\n",
       "    }\n",
       "\n",
       "    .dataframe tbody tr th {\n",
       "        vertical-align: top;\n",
       "    }\n",
       "\n",
       "    .dataframe thead th {\n",
       "        text-align: right;\n",
       "    }\n",
       "</style>\n",
       "<table border=\"1\" class=\"dataframe\">\n",
       "  <thead>\n",
       "    <tr style=\"text-align: right;\">\n",
       "      <th></th>\n",
       "      <th>NCTId</th>\n",
       "      <th>BriefTitle</th>\n",
       "      <th>Condition</th>\n",
       "      <th>ArmGroupInterventionName</th>\n",
       "      <th>LeadSponsorName</th>\n",
       "      <th>LeadSponsorClass</th>\n",
       "      <th>EnrollmentCount</th>\n",
       "      <th>StartDate</th>\n",
       "      <th>PrimaryCompletionDate</th>\n",
       "      <th>StudyLength</th>\n",
       "    </tr>\n",
       "  </thead>\n",
       "  <tbody>\n",
       "    <tr>\n",
       "      <th>1553</th>\n",
       "      <td>NCT05490316</td>\n",
       "      <td>A Study of IBI353 (Orismilast) in Chinese Heal...</td>\n",
       "      <td>Healthy Subjects</td>\n",
       "      <td>Drug: placebo', 'Drug: IBI353 (Orismilast)', '...</td>\n",
       "      <td>Innovent Biologics (Suzhou) Co. Ltd.</td>\n",
       "      <td>INDUSTRY</td>\n",
       "      <td>20</td>\n",
       "      <td>2022-11-30</td>\n",
       "      <td>2022-11-30</td>\n",
       "      <td>0</td>\n",
       "    </tr>\n",
       "    <tr>\n",
       "      <th>1807</th>\n",
       "      <td>NCT05444985</td>\n",
       "      <td>Postoperative Analgesic Effects of Bilateral E...</td>\n",
       "      <td>Analgesia', 'Pain, Postoperative</td>\n",
       "      <td>Other: Pain Management', 'Other: Pain Management</td>\n",
       "      <td>Samsun University</td>\n",
       "      <td>OTHER</td>\n",
       "      <td>80</td>\n",
       "      <td>2023-05-09</td>\n",
       "      <td>2023-05-09</td>\n",
       "      <td>0</td>\n",
       "    </tr>\n",
       "    <tr>\n",
       "      <th>810</th>\n",
       "      <td>NCT05674045</td>\n",
       "      <td>A Phase 2, Randomized, Placebo-controlled, Dou...</td>\n",
       "      <td>Stress Urinary Incontinence</td>\n",
       "      <td>Drug: EG017 3mg', 'Drug: EG017 6mg', 'Drug: EG...</td>\n",
       "      <td>GeneScience Pharmaceuticals Co., Ltd.</td>\n",
       "      <td>INDUSTRY</td>\n",
       "      <td>51</td>\n",
       "      <td>2022-01-06</td>\n",
       "      <td>2022-01-06</td>\n",
       "      <td>0</td>\n",
       "    </tr>\n",
       "    <tr>\n",
       "      <th>611</th>\n",
       "      <td>NCT05725551</td>\n",
       "      <td>The Effect of Shotblocker, Finger Puppet And B...</td>\n",
       "      <td>Children</td>\n",
       "      <td>Device: ShotBlocker', 'Other: Finger Puppet gr...</td>\n",
       "      <td>Mersin University</td>\n",
       "      <td>OTHER</td>\n",
       "      <td>148</td>\n",
       "      <td>2022-10-01</td>\n",
       "      <td>2022-10-01</td>\n",
       "      <td>0</td>\n",
       "    </tr>\n",
       "    <tr>\n",
       "      <th>687</th>\n",
       "      <td>NCT05706090</td>\n",
       "      <td>Effect of Neurostimulator Usage on Block Success</td>\n",
       "      <td>PATIENTS WITH UPPER EXTREMITY SURGERY</td>\n",
       "      <td>Drug: fentanyl will be added', 'Procedure: gen...</td>\n",
       "      <td>Gaziosmanpasa Research and Education Hospital</td>\n",
       "      <td>OTHER_GOV</td>\n",
       "      <td>60</td>\n",
       "      <td>2020-02-01</td>\n",
       "      <td>2020-02-01</td>\n",
       "      <td>0</td>\n",
       "    </tr>\n",
       "  </tbody>\n",
       "</table>\n",
       "</div>"
      ],
      "text/plain": [
       "            NCTId                                         BriefTitle  \\\n",
       "1553  NCT05490316  A Study of IBI353 (Orismilast) in Chinese Heal...   \n",
       "1807  NCT05444985  Postoperative Analgesic Effects of Bilateral E...   \n",
       "810   NCT05674045  A Phase 2, Randomized, Placebo-controlled, Dou...   \n",
       "611   NCT05725551  The Effect of Shotblocker, Finger Puppet And B...   \n",
       "687   NCT05706090   Effect of Neurostimulator Usage on Block Success   \n",
       "\n",
       "                                  Condition  \\\n",
       "1553                       Healthy Subjects   \n",
       "1807       Analgesia', 'Pain, Postoperative   \n",
       "810             Stress Urinary Incontinence   \n",
       "611                                Children   \n",
       "687   PATIENTS WITH UPPER EXTREMITY SURGERY   \n",
       "\n",
       "                               ArmGroupInterventionName  \\\n",
       "1553  Drug: placebo', 'Drug: IBI353 (Orismilast)', '...   \n",
       "1807   Other: Pain Management', 'Other: Pain Management   \n",
       "810   Drug: EG017 3mg', 'Drug: EG017 6mg', 'Drug: EG...   \n",
       "611   Device: ShotBlocker', 'Other: Finger Puppet gr...   \n",
       "687   Drug: fentanyl will be added', 'Procedure: gen...   \n",
       "\n",
       "                                    LeadSponsorName LeadSponsorClass  \\\n",
       "1553           Innovent Biologics (Suzhou) Co. Ltd.         INDUSTRY   \n",
       "1807                              Samsun University            OTHER   \n",
       "810           GeneScience Pharmaceuticals Co., Ltd.         INDUSTRY   \n",
       "611                               Mersin University            OTHER   \n",
       "687   Gaziosmanpasa Research and Education Hospital        OTHER_GOV   \n",
       "\n",
       "      EnrollmentCount  StartDate PrimaryCompletionDate  StudyLength  \n",
       "1553               20 2022-11-30            2022-11-30            0  \n",
       "1807               80 2023-05-09            2023-05-09            0  \n",
       "810                51 2022-01-06            2022-01-06            0  \n",
       "611               148 2022-10-01            2022-10-01            0  \n",
       "687                60 2020-02-01            2020-02-01            0  "
      ]
     },
     "execution_count": 17,
     "metadata": {},
     "output_type": "execute_result"
    }
   ],
   "source": [
    "#Sorting the dataframe by the length of the study.\n",
    "trials_df = trials_df.sort_values(by=\"StudyLength\")\n",
    "trials_df.head()"
   ]
  },
  {
   "cell_type": "markdown",
   "id": "0056bd17-78f5-44e6-b780-da93cfaa9c8f",
   "metadata": {},
   "source": [
    "# Descriptive Statistics"
   ]
  },
  {
   "cell_type": "markdown",
   "id": "da7f7b71-8427-4008-8f77-1bbc1d578703",
   "metadata": {},
   "source": [
    "## Quantitative Variables"
   ]
  },
  {
   "cell_type": "code",
   "execution_count": 18,
   "id": "23faf865-650c-40de-b1a8-b2a91e97ee04",
   "metadata": {},
   "outputs": [
    {
     "data": {
      "text/html": [
       "<div>\n",
       "<style scoped>\n",
       "    .dataframe tbody tr th:only-of-type {\n",
       "        vertical-align: middle;\n",
       "    }\n",
       "\n",
       "    .dataframe tbody tr th {\n",
       "        vertical-align: top;\n",
       "    }\n",
       "\n",
       "    .dataframe thead th {\n",
       "        text-align: right;\n",
       "    }\n",
       "</style>\n",
       "<table border=\"1\" class=\"dataframe\">\n",
       "  <thead>\n",
       "    <tr style=\"text-align: right;\">\n",
       "      <th></th>\n",
       "      <th>EnrollmentCount</th>\n",
       "      <th>StudyLength</th>\n",
       "    </tr>\n",
       "  </thead>\n",
       "  <tbody>\n",
       "    <tr>\n",
       "      <th>count</th>\n",
       "      <td>2000.000000</td>\n",
       "      <td>2000.000000</td>\n",
       "    </tr>\n",
       "    <tr>\n",
       "      <th>mean</th>\n",
       "      <td>531.640000</td>\n",
       "      <td>414.238500</td>\n",
       "    </tr>\n",
       "    <tr>\n",
       "      <th>std</th>\n",
       "      <td>8379.036782</td>\n",
       "      <td>487.880553</td>\n",
       "    </tr>\n",
       "    <tr>\n",
       "      <th>min</th>\n",
       "      <td>1.000000</td>\n",
       "      <td>0.000000</td>\n",
       "    </tr>\n",
       "    <tr>\n",
       "      <th>5%</th>\n",
       "      <td>12.000000</td>\n",
       "      <td>31.000000</td>\n",
       "    </tr>\n",
       "    <tr>\n",
       "      <th>25%</th>\n",
       "      <td>30.000000</td>\n",
       "      <td>121.000000</td>\n",
       "    </tr>\n",
       "    <tr>\n",
       "      <th>50%</th>\n",
       "      <td>58.000000</td>\n",
       "      <td>242.000000</td>\n",
       "    </tr>\n",
       "    <tr>\n",
       "      <th>75%</th>\n",
       "      <td>94.250000</td>\n",
       "      <td>501.000000</td>\n",
       "    </tr>\n",
       "    <tr>\n",
       "      <th>95%</th>\n",
       "      <td>301.200000</td>\n",
       "      <td>1329.000000</td>\n",
       "    </tr>\n",
       "    <tr>\n",
       "      <th>max</th>\n",
       "      <td>262085.000000</td>\n",
       "      <td>4473.000000</td>\n",
       "    </tr>\n",
       "  </tbody>\n",
       "</table>\n",
       "</div>"
      ],
      "text/plain": [
       "       EnrollmentCount  StudyLength\n",
       "count      2000.000000  2000.000000\n",
       "mean        531.640000   414.238500\n",
       "std        8379.036782   487.880553\n",
       "min           1.000000     0.000000\n",
       "5%           12.000000    31.000000\n",
       "25%          30.000000   121.000000\n",
       "50%          58.000000   242.000000\n",
       "75%          94.250000   501.000000\n",
       "95%         301.200000  1329.000000\n",
       "max      262085.000000  4473.000000"
      ]
     },
     "execution_count": 18,
     "metadata": {},
     "output_type": "execute_result"
    }
   ],
   "source": [
    "#Descriptive statistics for EnrollmentCount and StudyLength (Rank not of interest).\n",
    "trials_df.describe(percentiles=[0.05, 0.25, 0.75, 0.95])"
   ]
  },
  {
   "cell_type": "code",
   "execution_count": 30,
   "id": "395e89e9-af73-4f5e-87d5-7bae040252cd",
   "metadata": {},
   "outputs": [
    {
     "name": "stdout",
     "output_type": "stream",
     "text": [
      "EnrollmentCount Mode: 0    60\n",
      "Name: EnrollmentCount, dtype: int32\n",
      "StudyLength Mode: 0    365\n",
      "Name: StudyLength, dtype: int64\n"
     ]
    }
   ],
   "source": [
    "#Getting modes of numerical variables\n",
    "print(f\"EnrollmentCount Mode: {trials_df['EnrollmentCount'].mode()}\")\n",
    "print(f\"StudyLength Mode: {trials_df['StudyLength'].mode()}\")"
   ]
  },
  {
   "cell_type": "code",
   "execution_count": 56,
   "id": "85b0bf2e-36db-473f-9f7a-0bb4f3b6d9f0",
   "metadata": {},
   "outputs": [
    {
     "data": {
      "text/html": [
       "<div>\n",
       "<style scoped>\n",
       "    .dataframe tbody tr th:only-of-type {\n",
       "        vertical-align: middle;\n",
       "    }\n",
       "\n",
       "    .dataframe tbody tr th {\n",
       "        vertical-align: top;\n",
       "    }\n",
       "\n",
       "    .dataframe thead th {\n",
       "        text-align: right;\n",
       "    }\n",
       "</style>\n",
       "<table border=\"1\" class=\"dataframe\">\n",
       "  <thead>\n",
       "    <tr style=\"text-align: right;\">\n",
       "      <th></th>\n",
       "      <th>EnrollmentCount</th>\n",
       "      <th>StudyLength</th>\n",
       "    </tr>\n",
       "  </thead>\n",
       "  <tbody>\n",
       "    <tr>\n",
       "      <th>count</th>\n",
       "      <td>938.000000</td>\n",
       "      <td>938.000000</td>\n",
       "    </tr>\n",
       "    <tr>\n",
       "      <th>mean</th>\n",
       "      <td>64.356077</td>\n",
       "      <td>150.275053</td>\n",
       "    </tr>\n",
       "    <tr>\n",
       "      <th>std</th>\n",
       "      <td>47.339766</td>\n",
       "      <td>70.960291</td>\n",
       "    </tr>\n",
       "    <tr>\n",
       "      <th>min</th>\n",
       "      <td>12.000000</td>\n",
       "      <td>31.000000</td>\n",
       "    </tr>\n",
       "    <tr>\n",
       "      <th>25%</th>\n",
       "      <td>32.000000</td>\n",
       "      <td>90.250000</td>\n",
       "    </tr>\n",
       "    <tr>\n",
       "      <th>50%</th>\n",
       "      <td>52.000000</td>\n",
       "      <td>151.000000</td>\n",
       "    </tr>\n",
       "    <tr>\n",
       "      <th>75%</th>\n",
       "      <td>80.000000</td>\n",
       "      <td>205.000000</td>\n",
       "    </tr>\n",
       "    <tr>\n",
       "      <th>max</th>\n",
       "      <td>300.000000</td>\n",
       "      <td>301.000000</td>\n",
       "    </tr>\n",
       "  </tbody>\n",
       "</table>\n",
       "</div>"
      ],
      "text/plain": [
       "       EnrollmentCount  StudyLength\n",
       "count       938.000000   938.000000\n",
       "mean         64.356077   150.275053\n",
       "std          47.339766    70.960291\n",
       "min          12.000000    31.000000\n",
       "25%          32.000000    90.250000\n",
       "50%          52.000000   151.000000\n",
       "75%          80.000000   205.000000\n",
       "max         300.000000   301.000000"
      ]
     },
     "execution_count": 56,
     "metadata": {},
     "output_type": "execute_result"
    }
   ],
   "source": [
    "#Removing extremes from dataset, i.e. those above the 95% interval and below the 5% interval.\n",
    "trials_df.drop(trials_df[(trials_df[\"EnrollmentCount\"] >301.2) | (trials_df[\"EnrollmentCount\"] <12)].index, inplace=True)\n",
    "trials_df.drop(trials_df[(trials_df[\"StudyLength\"] >4473) | (trials_df[\"StudyLength\"] <31)].index, inplace=True)\n",
    "trials_df.describe()"
   ]
  },
  {
   "cell_type": "code",
   "execution_count": 57,
   "id": "0ea61bea-537d-452c-ae5e-3189730ac2b9",
   "metadata": {},
   "outputs": [
    {
     "data": {
      "image/png": "[encoded data removed]",
      "text/plain": [
       "<Figure size 640x480 with 1 Axes>"
      ]
     },
     "metadata": {},
     "output_type": "display_data"
    }
   ],
   "source": [
    "sns.countplot(x=trials_df[\"EnrollmentCount\"])\n",
    "plt.show()"
   ]
  },
  {
   "cell_type": "code",
   "execution_count": 58,
   "id": "e96bfe6e-ab49-4824-9859-521c420b0f0a",
   "metadata": {},
   "outputs": [
    {
     "data": {
      "image/png": "[encoded data removed]",
      "text/plain": [
       "<Figure size 640x480 with 1 Axes>"
      ]
     },
     "metadata": {},
     "output_type": "display_data"
    }
   ],
   "source": [
    "fig, ax = plt.subplots()\n",
    "ax.hist(trials_df[\"EnrollmentCount\"], bins=100)\n",
    "plt.show()"
   ]
  },
  {
   "cell_type": "code",
   "execution_count": 59,
   "id": "2efa6ec3-7f23-4df1-8f94-cd9c6ad699c8",
   "metadata": {},
   "outputs": [
    {
     "data": {
      "image/png": "[encoded data removed]",
      "text/plain": [
       "<Figure size 640x480 with 1 Axes>"
      ]
     },
     "metadata": {},
     "output_type": "display_data"
    }
   ],
   "source": [
    "sns.scatterplot(x=trials_df[\"StudyLength\"], y=trials_df[\"EnrollmentCount\"])\n",
    "plt.show()"
   ]
  },
  {
   "cell_type": "markdown",
   "id": "64af0f35-27ed-4c6c-9667-e61d43bf953e",
   "metadata": {},
   "source": [
    "## Categorical Variables"
   ]
  },
  {
   "cell_type": "code",
   "execution_count": 20,
   "id": "dd81a13c-840f-4b92-b158-ae9980ccc753",
   "metadata": {},
   "outputs": [
    {
     "data": {
      "text/plain": [
       "OTHER        1669\n",
       "INDUSTRY      234\n",
       "OTHER_GOV      82\n",
       "NETWORK        10\n",
       "NIH             3\n",
       "INDIV           2\n",
       "Name: LeadSponsorClass, dtype: Int64"
      ]
     },
     "execution_count": 20,
     "metadata": {},
     "output_type": "execute_result"
    }
   ],
   "source": [
    "trials_df[\"LeadSponsorClass\"].value_counts()"
   ]
  },
  {
   "cell_type": "code",
   "execution_count": 21,
   "id": "46c35ba0-4215-4932-a934-f2f8518810df",
   "metadata": {},
   "outputs": [
    {
     "data": {
      "text/plain": [
       "COVID-19                                             24\n",
       "Stroke                                               16\n",
       "Knee Osteoarthritis                                  16\n",
       "Neck Pain                                            12\n",
       "Obesity                                              11\n",
       "                                                     ..\n",
       "Stroke', 'Rehabilitation', 'Mindfulness               1\n",
       "Penile Cancer', 'Lymph Node Metastasis', 'Sent...     1\n",
       "Chronic Prostatitis                                   1\n",
       "GINGIVAL RECESSION                                    1\n",
       "Calculus; Gallbladder, With Cholecystitis             1\n",
       "Name: Condition, Length: 1601, dtype: Int64"
      ]
     },
     "execution_count": 21,
     "metadata": {},
     "output_type": "execute_result"
    }
   ],
   "source": [
    "trials_df[\"Condition\"].value_counts()"
   ]
  },
  {
   "cell_type": "code",
   "execution_count": 22,
   "id": "6e2b8b53-8116-4cdb-8794-f44ad12d735b",
   "metadata": {},
   "outputs": [
    {
     "data": {
      "text/plain": [
       "Riphah International University                      66\n",
       "Cairo University                                     52\n",
       "Ain Shams University                                 26\n",
       "Alexandria University                                21\n",
       "Zagazig University                                   17\n",
       "                                                     ..\n",
       "Taizhou Hospital of Zhejiang Province affiliat...     1\n",
       "Amsterdam UMC, location VUmc                          1\n",
       "Afyonkarahisar Health Sciences University             1\n",
       "Arkansas Heart Hospital                               1\n",
       "MED-EL Elektromedizinische Geräte GesmbH              1\n",
       "Name: LeadSponsorName, Length: 1121, dtype: Int64"
      ]
     },
     "execution_count": 22,
     "metadata": {},
     "output_type": "execute_result"
    }
   ],
   "source": [
    "trials_df[\"LeadSponsorName\"].value_counts()"
   ]
  },
  {
   "cell_type": "code",
   "execution_count": 23,
   "id": "1c3e8d1f-1540-4874-82da-a5a0f69af6c6",
   "metadata": {},
   "outputs": [],
   "source": [
    "#could assign above to variables/arrays and complete further operations."
   ]
  },
  {
   "cell_type": "code",
   "execution_count": 24,
   "id": "d22543c8-a800-4ee5-bb8c-4420c08f0f35",
   "metadata": {},
   "outputs": [],
   "source": [
    "#df.sort_values(\"study_length\") and df.sort_values(\"study_length\", ascedning=False) for descending values\n",
    "#sort by mutliple values here, study length and number enrolled. df.sort_values([\"study_length\", \"enrollment\"])\n",
    "#can subset columns by saying df[\"columnName\"] or multiple columns via df[[\"columnName1\", \"columnName2\"]] May want to do this to create a new df ad remove irrelevant columns\n",
    "#can subset rows with a condition like df[df[\"enrollment\"] > 50] or df[df[\"condition\"] == \"cancer\"] to see if any additional information of interest"
   ]
  },
  {
   "cell_type": "code",
   "execution_count": null,
   "id": "5edbab60-fcf7-4964-a16f-ba16a0beb558",
   "metadata": {},
   "outputs": [],
   "source": []
  }
 ],
 "metadata": {
  "kernelspec": {
   "display_name": "Python 3 (ipykernel)",
   "language": "python",
   "name": "python3"
  },
  "language_info": {
   "codemirror_mode": {
    "name": "ipython",
    "version": 3
   },
   "file_extension": ".py",
   "mimetype": "text/x-python",
   "name": "python",
   "nbconvert_exporter": "python",
   "pygments_lexer": "ipython3",
   "version": "3.10.9"
  }
 },
 "nbformat": 4,
 "nbformat_minor": 5
}
