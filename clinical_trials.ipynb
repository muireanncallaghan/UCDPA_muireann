{
 "cells": [
  {
   "cell_type": "code",
   "execution_count": 1,
   "id": "98b98de0-5136-4ce0-af2c-0df94b4488b9",
   "metadata": {},
   "outputs": [],
   "source": [
    "#Import pandas for dataframes as pd\n",
    "import pandas as pd\n",
    "\n",
    "#Import datetime module for manipulating dates and times as dt\n",
    "import datetime as dt\n",
    "\n",
    "#Import matplotlib for visualisations\n",
    "from matplotlib import pyplot as plt\n",
    "\n",
    "#Import seaborn for visualisations\n",
    "import seaborn as sns\n",
    "\n",
    "#Import request to allow for connections to APIs\n",
    "import requests\n",
    "\n",
    "#Import json package\n",
    "import json"
   ]
  },
  {
   "cell_type": "code",
   "execution_count": 2,
   "id": "f1dccc8c-796f-4ebd-a1f7-4ece941e89df",
   "metadata": {},
   "outputs": [],
   "source": [
    "#Obtaining data from clinicaltrials.gov API (in two parts due to API restrictions)\n",
    "url_1 = 'https://clinicaltrials.gov/api/query/study_fields?expr=AREA[StudyType]Interventional+AREA[OverallStatus]Completed+AREA[HealthyVolunteers]No+AREA[PrimaryCompletionDate]RANGE[01/01/2013,%20MAX]&min_rnk=1&max_rnk=1000&fmt=JSON&fields=NCTId,BriefTitle,Condition,ArmGroupInterventionName,LeadSponsorName,LeadSponsorClass,EnrollmentCount,StartDate,PrimaryCompletionDate'\n",
    "url_2 = 'https://clinicaltrials.gov/api/query/study_fields?expr=AREA[StudyType]Interventional+AREA[OverallStatus]Completed+AREA[HealthyVolunteers]No+AREA[PrimaryCompletionDate]RANGE[01/01/2013,%20MAX]&min_rnk=1001&max_rnk=2000&fmt=JSON&fields=NCTId,BriefTitle,Condition,ArmGroupInterventionName,LeadSponsorName,LeadSponsorClass,EnrollmentCount,StartDate,PrimaryCompletionDate'\n",
    "r_1 = requests.get(url_1)\n",
    "r_2 = requests.get(url_2)\n",
    "json_data_1 = r_1.json()\n",
    "json_data_2 = r_2.json()"
   ]
  },
  {
   "cell_type": "code",
   "execution_count": 3,
   "id": "76f8031a-6fbf-4cb5-892e-5e20bd9bcf56",
   "metadata": {},
   "outputs": [
    {
     "name": "stdout",
     "output_type": "stream",
     "text": [
      "<class 'dict'>\n",
      "dict_keys(['StudyFieldsResponse'])\n"
     ]
    }
   ],
   "source": [
    "#Checking format and keys of imported data above\n",
    "print(type(json_data_1))\n",
    "print(json_data_1.keys())"
   ]
  },
  {
   "cell_type": "code",
   "execution_count": 4,
   "id": "da9c84e0-f701-4200-a14b-52a6851e17e5",
   "metadata": {},
   "outputs": [
    {
     "name": "stdout",
     "output_type": "stream",
     "text": [
      "<class 'dict'>\n",
      "dict_keys(['APIVrs', 'DataVrs', 'Expression', 'NStudiesAvail', 'NStudiesFound', 'MinRank', 'MaxRank', 'NStudiesReturned', 'FieldList', 'StudyFields'])\n"
     ]
    }
   ],
   "source": [
    "#Further investigating structure of imported data \n",
    "print(type(json_data_1['StudyFieldsResponse']))\n",
    "print(json_data_1['StudyFieldsResponse'].keys())"
   ]
  },
  {
   "cell_type": "code",
   "execution_count": 5,
   "id": "c1f11aa5-ca32-4d62-aef0-ac1eed62aa68",
   "metadata": {},
   "outputs": [
    {
     "name": "stdout",
     "output_type": "stream",
     "text": [
      "<class 'list'>\n",
      "{'Rank': 1, 'NCTId': ['NCT05917457'], 'BriefTitle': ['Investigation of the Effects of Balance Coordination and Reinforcement Training on Gait, Mobility and Posture in Children With Low Vision'], 'Condition': ['Children With Low Vision'], 'ArmGroupInterventionName': ['Other: balance coordination and strengthening training'], 'LeadSponsorName': ['Pamukkale University'], 'LeadSponsorClass': ['OTHER'], 'EnrollmentCount': ['22'], 'StartDate': ['November 20, 2022'], 'PrimaryCompletionDate': ['March 20, 2023']}\n"
     ]
    }
   ],
   "source": [
    "#Investigating data important under 'StudyFields' in imported data and printing first row.\n",
    "print(type(json_data_1['StudyFieldsResponse']['StudyFields']))\n",
    "print(json_data_1['StudyFieldsResponse']['StudyFields'][0])"
   ]
  },
  {
   "cell_type": "code",
   "execution_count": 6,
   "id": "e0904639-efea-430f-844f-caf120ec401b",
   "metadata": {},
   "outputs": [
    {
     "name": "stdout",
     "output_type": "stream",
     "text": [
      "{'Rank': 1, 'NCTId': ['NCT05917457'], 'BriefTitle': ['Investigation of the Effects of Balance Coordination and Reinforcement Training on Gait, Mobility and Posture in Children With Low Vision'], 'Condition': ['Children With Low Vision'], 'ArmGroupInterventionName': ['Other: balance coordination and strengthening training'], 'LeadSponsorName': ['Pamukkale University'], 'LeadSponsorClass': ['OTHER'], 'EnrollmentCount': ['22'], 'StartDate': ['November 20, 2022'], 'PrimaryCompletionDate': ['March 20, 2023']}\n",
      "{'Rank': 2000, 'NCTId': ['NCT05405959'], 'BriefTitle': ['Kinesio Tape Application With EDF Technique on Active Trigger Points of Upper Trapezius Muscle'], 'Condition': ['Myofascial Pain Syndrome', 'Myofascial Trigger Point Pain'], 'ArmGroupInterventionName': ['Device: Kinesio tape', 'Device: Sham Kinesio Tape'], 'LeadSponsorName': ['Haydarpasa Numune Training and Research Hospital'], 'LeadSponsorClass': ['OTHER'], 'EnrollmentCount': ['180'], 'StartDate': ['January 2, 2019'], 'PrimaryCompletionDate': ['April 1, 2019']}\n"
     ]
    }
   ],
   "source": [
    "#Append the two imported datasets, i.e. the lists located under 'StudyFields' key in json_data_1 and json_data_2.\n",
    "trials = json_data_1['StudyFieldsResponse']['StudyFields'] + json_data_2['StudyFieldsResponse']['StudyFields']\n",
    "print(trials[0])\n",
    "print(trials[-1])"
   ]
  },
  {
   "cell_type": "code",
   "execution_count": 7,
   "id": "c4c72fff-9d77-4f7b-ad40-7c1440e123eb",
   "metadata": {},
   "outputs": [],
   "source": [
    "#Creating a dataframe to work with.\n",
    "trials_df = pd.DataFrame(trials)\n"
   ]
  },
  {
   "cell_type": "markdown",
   "id": "af1fcfec-2aba-4c5f-9f6b-a7c893508992",
   "metadata": {},
   "source": [
    "# Exploring the DataFrame"
   ]
  },
  {
   "cell_type": "code",
   "execution_count": 8,
   "id": "827d3745-20ef-4e9a-8312-ea5977c455a0",
   "metadata": {},
   "outputs": [
    {
     "data": {
      "text/html": [
       "<div>\n",
       "<style scoped>\n",
       "    .dataframe tbody tr th:only-of-type {\n",
       "        vertical-align: middle;\n",
       "    }\n",
       "\n",
       "    .dataframe tbody tr th {\n",
       "        vertical-align: top;\n",
       "    }\n",
       "\n",
       "    .dataframe thead th {\n",
       "        text-align: right;\n",
       "    }\n",
       "</style>\n",
       "<table border=\"1\" class=\"dataframe\">\n",
       "  <thead>\n",
       "    <tr style=\"text-align: right;\">\n",
       "      <th></th>\n",
       "      <th>Rank</th>\n",
       "      <th>NCTId</th>\n",
       "      <th>BriefTitle</th>\n",
       "      <th>Condition</th>\n",
       "      <th>ArmGroupInterventionName</th>\n",
       "      <th>LeadSponsorName</th>\n",
       "      <th>LeadSponsorClass</th>\n",
       "      <th>EnrollmentCount</th>\n",
       "      <th>StartDate</th>\n",
       "      <th>PrimaryCompletionDate</th>\n",
       "    </tr>\n",
       "  </thead>\n",
       "  <tbody>\n",
       "    <tr>\n",
       "      <th>0</th>\n",
       "      <td>1</td>\n",
       "      <td>[NCT05917457]</td>\n",
       "      <td>[Investigation of the Effects of Balance Coord...</td>\n",
       "      <td>[Children With Low Vision]</td>\n",
       "      <td>[Other: balance coordination and strengthening...</td>\n",
       "      <td>[Pamukkale University]</td>\n",
       "      <td>[OTHER]</td>\n",
       "      <td>[22]</td>\n",
       "      <td>[November 20, 2022]</td>\n",
       "      <td>[March 20, 2023]</td>\n",
       "    </tr>\n",
       "    <tr>\n",
       "      <th>1</th>\n",
       "      <td>2</td>\n",
       "      <td>[NCT05917366]</td>\n",
       "      <td>[Effect of Manipulation on Coccydynia]</td>\n",
       "      <td>[Coccyx Disorder, Pelvic Floor; Weak, Stretch]</td>\n",
       "      <td>[Other: Exercises, Other: Coccyx Manipulation,...</td>\n",
       "      <td>[KTO Karatay University]</td>\n",
       "      <td>[OTHER]</td>\n",
       "      <td>[46]</td>\n",
       "      <td>[July 16, 2022]</td>\n",
       "      <td>[December 20, 2022]</td>\n",
       "    </tr>\n",
       "    <tr>\n",
       "      <th>2</th>\n",
       "      <td>3</td>\n",
       "      <td>[NCT05915780]</td>\n",
       "      <td>[Effect of Aerobic Exercises on Static &amp; Dynam...</td>\n",
       "      <td>[Down Syndrome]</td>\n",
       "      <td>[Device: Cycling, Device: Balance Board]</td>\n",
       "      <td>[Riphah International University]</td>\n",
       "      <td>[OTHER]</td>\n",
       "      <td>[20]</td>\n",
       "      <td>[May 3, 2023]</td>\n",
       "      <td>[May 21, 2023]</td>\n",
       "    </tr>\n",
       "    <tr>\n",
       "      <th>3</th>\n",
       "      <td>4</td>\n",
       "      <td>[NCT05915650]</td>\n",
       "      <td>[Application of PNE in Postoperative Pain Mana...</td>\n",
       "      <td>[Pain]</td>\n",
       "      <td>[Behavioral: Pain Neuroscience Education, Beha...</td>\n",
       "      <td>[Zunyi Medical College]</td>\n",
       "      <td>[OTHER]</td>\n",
       "      <td>[70]</td>\n",
       "      <td>[December 1, 2020]</td>\n",
       "      <td>[December 1, 2021]</td>\n",
       "    </tr>\n",
       "    <tr>\n",
       "      <th>4</th>\n",
       "      <td>5</td>\n",
       "      <td>[NCT05915624]</td>\n",
       "      <td>[Tele Nursing Counseling on Anxiety and Patien...</td>\n",
       "      <td>[Ambulatory Surgical Procedures]</td>\n",
       "      <td>[Other: telephone counseiling]</td>\n",
       "      <td>[Istanbul University - Cerrahpasa (IUC)]</td>\n",
       "      <td>[OTHER]</td>\n",
       "      <td>[160]</td>\n",
       "      <td>[September 1, 2022]</td>\n",
       "      <td>[May 30, 2023]</td>\n",
       "    </tr>\n",
       "  </tbody>\n",
       "</table>\n",
       "</div>"
      ],
      "text/plain": [
       "   Rank          NCTId                                         BriefTitle  \\\n",
       "0     1  [NCT05917457]  [Investigation of the Effects of Balance Coord...   \n",
       "1     2  [NCT05917366]             [Effect of Manipulation on Coccydynia]   \n",
       "2     3  [NCT05915780]  [Effect of Aerobic Exercises on Static & Dynam...   \n",
       "3     4  [NCT05915650]  [Application of PNE in Postoperative Pain Mana...   \n",
       "4     5  [NCT05915624]  [Tele Nursing Counseling on Anxiety and Patien...   \n",
       "\n",
       "                                        Condition  \\\n",
       "0                      [Children With Low Vision]   \n",
       "1  [Coccyx Disorder, Pelvic Floor; Weak, Stretch]   \n",
       "2                                 [Down Syndrome]   \n",
       "3                                          [Pain]   \n",
       "4                [Ambulatory Surgical Procedures]   \n",
       "\n",
       "                            ArmGroupInterventionName  \\\n",
       "0  [Other: balance coordination and strengthening...   \n",
       "1  [Other: Exercises, Other: Coccyx Manipulation,...   \n",
       "2           [Device: Cycling, Device: Balance Board]   \n",
       "3  [Behavioral: Pain Neuroscience Education, Beha...   \n",
       "4                     [Other: telephone counseiling]   \n",
       "\n",
       "                            LeadSponsorName LeadSponsorClass EnrollmentCount  \\\n",
       "0                    [Pamukkale University]          [OTHER]            [22]   \n",
       "1                  [KTO Karatay University]          [OTHER]            [46]   \n",
       "2         [Riphah International University]          [OTHER]            [20]   \n",
       "3                   [Zunyi Medical College]          [OTHER]            [70]   \n",
       "4  [Istanbul University - Cerrahpasa (IUC)]          [OTHER]           [160]   \n",
       "\n",
       "             StartDate PrimaryCompletionDate  \n",
       "0  [November 20, 2022]      [March 20, 2023]  \n",
       "1      [July 16, 2022]   [December 20, 2022]  \n",
       "2        [May 3, 2023]        [May 21, 2023]  \n",
       "3   [December 1, 2020]    [December 1, 2021]  \n",
       "4  [September 1, 2022]        [May 30, 2023]  "
      ]
     },
     "execution_count": 8,
     "metadata": {},
     "output_type": "execute_result"
    }
   ],
   "source": [
    "#Look at first 5 rows of data to get a better sense of the dataset.\n",
    "trials_df.head()"
   ]
  },
  {
   "cell_type": "code",
   "execution_count": 9,
   "id": "6240dabc-c153-46f3-8dab-bf403e230b39",
   "metadata": {},
   "outputs": [
    {
     "name": "stdout",
     "output_type": "stream",
     "text": [
      "<class 'pandas.core.frame.DataFrame'>\n",
      "RangeIndex: 2000 entries, 0 to 1999\n",
      "Data columns (total 10 columns):\n",
      " #   Column                    Non-Null Count  Dtype \n",
      "---  ------                    --------------  ----- \n",
      " 0   Rank                      2000 non-null   int64 \n",
      " 1   NCTId                     2000 non-null   object\n",
      " 2   BriefTitle                2000 non-null   object\n",
      " 3   Condition                 2000 non-null   object\n",
      " 4   ArmGroupInterventionName  2000 non-null   object\n",
      " 5   LeadSponsorName           2000 non-null   object\n",
      " 6   LeadSponsorClass          2000 non-null   object\n",
      " 7   EnrollmentCount           2000 non-null   object\n",
      " 8   StartDate                 2000 non-null   object\n",
      " 9   PrimaryCompletionDate     2000 non-null   object\n",
      "dtypes: int64(1), object(9)\n",
      "memory usage: 156.4+ KB\n"
     ]
    }
   ],
   "source": [
    "#Finding out number of data entries, columns, data types, and assessing quality of dataset (no. blank cells)\n",
    "trials_df.info()"
   ]
  },
  {
   "cell_type": "code",
   "execution_count": 10,
   "id": "3bc8eb67-5faf-479d-9e3a-da6b5f6c94d6",
   "metadata": {},
   "outputs": [
    {
     "name": "stderr",
     "output_type": "stream",
     "text": [
      "C:\\Users\\muire\\AppData\\Local\\Temp\\ipykernel_18020\\2986588612.py:3: FutureWarning: The default value of regex will change from True to False in a future version. In addition, single character regular expressions will *not* be treated as literal strings when regex=True.\n",
      "  trials_df['EnrollmentCount'] = trials_df['EnrollmentCount'].str.replace(\"[\",\"\").str.replace(\"]\",\"\").str.strip(\"'\")\n"
     ]
    },
    {
     "data": {
      "text/html": [
       "<div>\n",
       "<style scoped>\n",
       "    .dataframe tbody tr th:only-of-type {\n",
       "        vertical-align: middle;\n",
       "    }\n",
       "\n",
       "    .dataframe tbody tr th {\n",
       "        vertical-align: top;\n",
       "    }\n",
       "\n",
       "    .dataframe thead th {\n",
       "        text-align: right;\n",
       "    }\n",
       "</style>\n",
       "<table border=\"1\" class=\"dataframe\">\n",
       "  <thead>\n",
       "    <tr style=\"text-align: right;\">\n",
       "      <th></th>\n",
       "      <th>Rank</th>\n",
       "      <th>NCTId</th>\n",
       "      <th>BriefTitle</th>\n",
       "      <th>Condition</th>\n",
       "      <th>ArmGroupInterventionName</th>\n",
       "      <th>LeadSponsorName</th>\n",
       "      <th>LeadSponsorClass</th>\n",
       "      <th>EnrollmentCount</th>\n",
       "      <th>StartDate</th>\n",
       "      <th>PrimaryCompletionDate</th>\n",
       "    </tr>\n",
       "  </thead>\n",
       "  <tbody>\n",
       "    <tr>\n",
       "      <th>0</th>\n",
       "      <td>1</td>\n",
       "      <td>[NCT05917457]</td>\n",
       "      <td>[Investigation of the Effects of Balance Coord...</td>\n",
       "      <td>[Children With Low Vision]</td>\n",
       "      <td>[Other: balance coordination and strengthening...</td>\n",
       "      <td>[Pamukkale University]</td>\n",
       "      <td>[OTHER]</td>\n",
       "      <td>22</td>\n",
       "      <td>[November 20, 2022]</td>\n",
       "      <td>[March 20, 2023]</td>\n",
       "    </tr>\n",
       "    <tr>\n",
       "      <th>1</th>\n",
       "      <td>2</td>\n",
       "      <td>[NCT05917366]</td>\n",
       "      <td>[Effect of Manipulation on Coccydynia]</td>\n",
       "      <td>[Coccyx Disorder, Pelvic Floor; Weak, Stretch]</td>\n",
       "      <td>[Other: Exercises, Other: Coccyx Manipulation,...</td>\n",
       "      <td>[KTO Karatay University]</td>\n",
       "      <td>[OTHER]</td>\n",
       "      <td>46</td>\n",
       "      <td>[July 16, 2022]</td>\n",
       "      <td>[December 20, 2022]</td>\n",
       "    </tr>\n",
       "  </tbody>\n",
       "</table>\n",
       "</div>"
      ],
      "text/plain": [
       "   Rank          NCTId                                         BriefTitle  \\\n",
       "0     1  [NCT05917457]  [Investigation of the Effects of Balance Coord...   \n",
       "1     2  [NCT05917366]             [Effect of Manipulation on Coccydynia]   \n",
       "\n",
       "                                        Condition  \\\n",
       "0                      [Children With Low Vision]   \n",
       "1  [Coccyx Disorder, Pelvic Floor; Weak, Stretch]   \n",
       "\n",
       "                            ArmGroupInterventionName  \\\n",
       "0  [Other: balance coordination and strengthening...   \n",
       "1  [Other: Exercises, Other: Coccyx Manipulation,...   \n",
       "\n",
       "            LeadSponsorName LeadSponsorClass EnrollmentCount  \\\n",
       "0    [Pamukkale University]          [OTHER]              22   \n",
       "1  [KTO Karatay University]          [OTHER]              46   \n",
       "\n",
       "             StartDate PrimaryCompletionDate  \n",
       "0  [November 20, 2022]      [March 20, 2023]  \n",
       "1      [July 16, 2022]   [December 20, 2022]  "
      ]
     },
     "execution_count": 10,
     "metadata": {},
     "output_type": "execute_result"
    }
   ],
   "source": [
    "#Enrollment should be an integer but must first convert to string and remove unwanted characters.\n",
    "trials_df['EnrollmentCount'] = trials_df['EnrollmentCount'].astype('string')\n",
    "trials_df['EnrollmentCount'] = trials_df['EnrollmentCount'].str.replace(\"[\",\"\").str.replace(\"]\",\"\").str.strip(\"'\")\n",
    "trials_df.head(2)"
   ]
  },
  {
   "cell_type": "code",
   "execution_count": 11,
   "id": "108b14f2-a2c8-458b-aa4c-221be1f165b6",
   "metadata": {},
   "outputs": [
    {
     "name": "stdout",
     "output_type": "stream",
     "text": [
      "<class 'pandas.core.frame.DataFrame'>\n",
      "RangeIndex: 2000 entries, 0 to 1999\n",
      "Data columns (total 10 columns):\n",
      " #   Column                    Non-Null Count  Dtype \n",
      "---  ------                    --------------  ----- \n",
      " 0   Rank                      2000 non-null   int64 \n",
      " 1   NCTId                     2000 non-null   object\n",
      " 2   BriefTitle                2000 non-null   object\n",
      " 3   Condition                 2000 non-null   object\n",
      " 4   ArmGroupInterventionName  2000 non-null   object\n",
      " 5   LeadSponsorName           2000 non-null   object\n",
      " 6   LeadSponsorClass          2000 non-null   object\n",
      " 7   EnrollmentCount           2000 non-null   int32 \n",
      " 8   StartDate                 2000 non-null   object\n",
      " 9   PrimaryCompletionDate     2000 non-null   object\n",
      "dtypes: int32(1), int64(1), object(8)\n",
      "memory usage: 148.6+ KB\n"
     ]
    }
   ],
   "source": [
    "#Converting Enrollment to an integer and checking the types.\n",
    "trials_df['EnrollmentCount'] = trials_df['EnrollmentCount'].astype(int)\n",
    "trials_df.info()"
   ]
  },
  {
   "cell_type": "code",
   "execution_count": 12,
   "id": "ce5fcb45-725b-489c-9cdd-00f5afb600cb",
   "metadata": {},
   "outputs": [
    {
     "data": {
      "text/html": [
       "<div>\n",
       "<style scoped>\n",
       "    .dataframe tbody tr th:only-of-type {\n",
       "        vertical-align: middle;\n",
       "    }\n",
       "\n",
       "    .dataframe tbody tr th {\n",
       "        vertical-align: top;\n",
       "    }\n",
       "\n",
       "    .dataframe thead th {\n",
       "        text-align: right;\n",
       "    }\n",
       "</style>\n",
       "<table border=\"1\" class=\"dataframe\">\n",
       "  <thead>\n",
       "    <tr style=\"text-align: right;\">\n",
       "      <th></th>\n",
       "      <th>Rank</th>\n",
       "      <th>EnrollmentCount</th>\n",
       "    </tr>\n",
       "  </thead>\n",
       "  <tbody>\n",
       "    <tr>\n",
       "      <th>count</th>\n",
       "      <td>2000.000000</td>\n",
       "      <td>2000.000000</td>\n",
       "    </tr>\n",
       "    <tr>\n",
       "      <th>mean</th>\n",
       "      <td>1000.500000</td>\n",
       "      <td>531.423500</td>\n",
       "    </tr>\n",
       "    <tr>\n",
       "      <th>std</th>\n",
       "      <td>577.494589</td>\n",
       "      <td>8379.047502</td>\n",
       "    </tr>\n",
       "    <tr>\n",
       "      <th>min</th>\n",
       "      <td>1.000000</td>\n",
       "      <td>1.000000</td>\n",
       "    </tr>\n",
       "    <tr>\n",
       "      <th>25%</th>\n",
       "      <td>500.750000</td>\n",
       "      <td>30.000000</td>\n",
       "    </tr>\n",
       "    <tr>\n",
       "      <th>50%</th>\n",
       "      <td>1000.500000</td>\n",
       "      <td>58.000000</td>\n",
       "    </tr>\n",
       "    <tr>\n",
       "      <th>75%</th>\n",
       "      <td>1500.250000</td>\n",
       "      <td>94.000000</td>\n",
       "    </tr>\n",
       "    <tr>\n",
       "      <th>max</th>\n",
       "      <td>2000.000000</td>\n",
       "      <td>262085.000000</td>\n",
       "    </tr>\n",
       "  </tbody>\n",
       "</table>\n",
       "</div>"
      ],
      "text/plain": [
       "              Rank  EnrollmentCount\n",
       "count  2000.000000      2000.000000\n",
       "mean   1000.500000       531.423500\n",
       "std     577.494589      8379.047502\n",
       "min       1.000000         1.000000\n",
       "25%     500.750000        30.000000\n",
       "50%    1000.500000        58.000000\n",
       "75%    1500.250000        94.000000\n",
       "max    2000.000000    262085.000000"
      ]
     },
     "execution_count": 12,
     "metadata": {},
     "output_type": "execute_result"
    }
   ],
   "source": [
    "#Describing integer data types.\n",
    "trials_df.describe()"
   ]
  },
  {
   "cell_type": "markdown",
   "id": "d8d6fc38-a91d-4ba0-bc1f-e9017dddcd7e",
   "metadata": {},
   "source": [
    "# Cleaning the Dataframe"
   ]
  },
  {
   "cell_type": "code",
   "execution_count": 13,
   "id": "bbaff4b6-cb99-4356-8b22-c910a23addf3",
   "metadata": {},
   "outputs": [
    {
     "data": {
      "text/plain": [
       "Rank                        False\n",
       "NCTId                       False\n",
       "BriefTitle                  False\n",
       "Condition                   False\n",
       "ArmGroupInterventionName    False\n",
       "LeadSponsorName             False\n",
       "LeadSponsorClass            False\n",
       "EnrollmentCount             False\n",
       "StartDate                   False\n",
       "PrimaryCompletionDate       False\n",
       "dtype: bool"
      ]
     },
     "execution_count": 13,
     "metadata": {},
     "output_type": "execute_result"
    }
   ],
   "source": [
    "#Confirming that there is no missing data. \n",
    "trials_df.isna().any()"
   ]
  },
  {
   "cell_type": "markdown",
   "id": "3ae08247-305e-4af1-b756-5f74ed884bf1",
   "metadata": {},
   "source": [
    "# Sorting the Data"
   ]
  },
  {
   "cell_type": "code",
   "execution_count": 16,
   "id": "7c117393-8005-499d-9d15-2d21b0ad5786",
   "metadata": {},
   "outputs": [],
   "source": [
    "#I want to sort by the length of the study so I need a new column with length of study to work with."
   ]
  },
  {
   "cell_type": "code",
   "execution_count": 17,
   "id": "f90c3d55-5897-45e6-9d35-40d56159a0ea",
   "metadata": {},
   "outputs": [
    {
     "name": "stdout",
     "output_type": "stream",
     "text": [
      "Rank                                 int64\n",
      "NCTId                               object\n",
      "BriefTitle                          object\n",
      "Condition                           object\n",
      "ArmGroupInterventionName            object\n",
      "LeadSponsorName                     object\n",
      "LeadSponsorClass                    object\n",
      "EnrollmentCount                      int32\n",
      "StartDate                   datetime64[ns]\n",
      "PrimaryCompletionDate       datetime64[ns]\n",
      "dtype: object\n"
     ]
    }
   ],
   "source": [
    "#Having seen the datatypes are not datetime, I want to convert now. Reference solution here.\n",
    "\n",
    "trials_df[\"StartDate\"] = trials_df[\"StartDate\"].apply(lambda x: pd.to_datetime(x[0]))\n",
    "trials_df[\"PrimaryCompletionDate\"] = trials_df[\"PrimaryCompletionDate\"].apply(lambda y: pd.to_datetime(y[0]))\n",
    "print(trials_df.dtypes)"
   ]
  },
  {
   "cell_type": "code",
   "execution_count": 18,
   "id": "7b35ebd1-f72b-4d9d-a8c3-a4defb6f2dfd",
   "metadata": {},
   "outputs": [
    {
     "data": {
      "text/html": [
       "<div>\n",
       "<style scoped>\n",
       "    .dataframe tbody tr th:only-of-type {\n",
       "        vertical-align: middle;\n",
       "    }\n",
       "\n",
       "    .dataframe tbody tr th {\n",
       "        vertical-align: top;\n",
       "    }\n",
       "\n",
       "    .dataframe thead th {\n",
       "        text-align: right;\n",
       "    }\n",
       "</style>\n",
       "<table border=\"1\" class=\"dataframe\">\n",
       "  <thead>\n",
       "    <tr style=\"text-align: right;\">\n",
       "      <th></th>\n",
       "      <th>Rank</th>\n",
       "      <th>NCTId</th>\n",
       "      <th>BriefTitle</th>\n",
       "      <th>Condition</th>\n",
       "      <th>ArmGroupInterventionName</th>\n",
       "      <th>LeadSponsorName</th>\n",
       "      <th>LeadSponsorClass</th>\n",
       "      <th>EnrollmentCount</th>\n",
       "      <th>StartDate</th>\n",
       "      <th>PrimaryCompletionDate</th>\n",
       "      <th>StudyLength</th>\n",
       "    </tr>\n",
       "  </thead>\n",
       "  <tbody>\n",
       "    <tr>\n",
       "      <th>0</th>\n",
       "      <td>1</td>\n",
       "      <td>[NCT05917457]</td>\n",
       "      <td>[Investigation of the Effects of Balance Coord...</td>\n",
       "      <td>[Children With Low Vision]</td>\n",
       "      <td>[Other: balance coordination and strengthening...</td>\n",
       "      <td>[Pamukkale University]</td>\n",
       "      <td>[OTHER]</td>\n",
       "      <td>22</td>\n",
       "      <td>2022-11-20</td>\n",
       "      <td>2023-03-20</td>\n",
       "      <td>120</td>\n",
       "    </tr>\n",
       "    <tr>\n",
       "      <th>1</th>\n",
       "      <td>2</td>\n",
       "      <td>[NCT05917366]</td>\n",
       "      <td>[Effect of Manipulation on Coccydynia]</td>\n",
       "      <td>[Coccyx Disorder, Pelvic Floor; Weak, Stretch]</td>\n",
       "      <td>[Other: Exercises, Other: Coccyx Manipulation,...</td>\n",
       "      <td>[KTO Karatay University]</td>\n",
       "      <td>[OTHER]</td>\n",
       "      <td>46</td>\n",
       "      <td>2022-07-16</td>\n",
       "      <td>2022-12-20</td>\n",
       "      <td>157</td>\n",
       "    </tr>\n",
       "    <tr>\n",
       "      <th>2</th>\n",
       "      <td>3</td>\n",
       "      <td>[NCT05915780]</td>\n",
       "      <td>[Effect of Aerobic Exercises on Static &amp; Dynam...</td>\n",
       "      <td>[Down Syndrome]</td>\n",
       "      <td>[Device: Cycling, Device: Balance Board]</td>\n",
       "      <td>[Riphah International University]</td>\n",
       "      <td>[OTHER]</td>\n",
       "      <td>20</td>\n",
       "      <td>2023-05-03</td>\n",
       "      <td>2023-05-21</td>\n",
       "      <td>18</td>\n",
       "    </tr>\n",
       "    <tr>\n",
       "      <th>3</th>\n",
       "      <td>4</td>\n",
       "      <td>[NCT05915650]</td>\n",
       "      <td>[Application of PNE in Postoperative Pain Mana...</td>\n",
       "      <td>[Pain]</td>\n",
       "      <td>[Behavioral: Pain Neuroscience Education, Beha...</td>\n",
       "      <td>[Zunyi Medical College]</td>\n",
       "      <td>[OTHER]</td>\n",
       "      <td>70</td>\n",
       "      <td>2020-12-01</td>\n",
       "      <td>2021-12-01</td>\n",
       "      <td>365</td>\n",
       "    </tr>\n",
       "    <tr>\n",
       "      <th>4</th>\n",
       "      <td>5</td>\n",
       "      <td>[NCT05915624]</td>\n",
       "      <td>[Tele Nursing Counseling on Anxiety and Patien...</td>\n",
       "      <td>[Ambulatory Surgical Procedures]</td>\n",
       "      <td>[Other: telephone counseiling]</td>\n",
       "      <td>[Istanbul University - Cerrahpasa (IUC)]</td>\n",
       "      <td>[OTHER]</td>\n",
       "      <td>160</td>\n",
       "      <td>2022-09-01</td>\n",
       "      <td>2023-05-30</td>\n",
       "      <td>271</td>\n",
       "    </tr>\n",
       "  </tbody>\n",
       "</table>\n",
       "</div>"
      ],
      "text/plain": [
       "   Rank          NCTId                                         BriefTitle  \\\n",
       "0     1  [NCT05917457]  [Investigation of the Effects of Balance Coord...   \n",
       "1     2  [NCT05917366]             [Effect of Manipulation on Coccydynia]   \n",
       "2     3  [NCT05915780]  [Effect of Aerobic Exercises on Static & Dynam...   \n",
       "3     4  [NCT05915650]  [Application of PNE in Postoperative Pain Mana...   \n",
       "4     5  [NCT05915624]  [Tele Nursing Counseling on Anxiety and Patien...   \n",
       "\n",
       "                                        Condition  \\\n",
       "0                      [Children With Low Vision]   \n",
       "1  [Coccyx Disorder, Pelvic Floor; Weak, Stretch]   \n",
       "2                                 [Down Syndrome]   \n",
       "3                                          [Pain]   \n",
       "4                [Ambulatory Surgical Procedures]   \n",
       "\n",
       "                            ArmGroupInterventionName  \\\n",
       "0  [Other: balance coordination and strengthening...   \n",
       "1  [Other: Exercises, Other: Coccyx Manipulation,...   \n",
       "2           [Device: Cycling, Device: Balance Board]   \n",
       "3  [Behavioral: Pain Neuroscience Education, Beha...   \n",
       "4                     [Other: telephone counseiling]   \n",
       "\n",
       "                            LeadSponsorName LeadSponsorClass  EnrollmentCount  \\\n",
       "0                    [Pamukkale University]          [OTHER]               22   \n",
       "1                  [KTO Karatay University]          [OTHER]               46   \n",
       "2         [Riphah International University]          [OTHER]               20   \n",
       "3                   [Zunyi Medical College]          [OTHER]               70   \n",
       "4  [Istanbul University - Cerrahpasa (IUC)]          [OTHER]              160   \n",
       "\n",
       "   StartDate PrimaryCompletionDate  StudyLength  \n",
       "0 2022-11-20            2023-03-20          120  \n",
       "1 2022-07-16            2022-12-20          157  \n",
       "2 2023-05-03            2023-05-21           18  \n",
       "3 2020-12-01            2021-12-01          365  \n",
       "4 2022-09-01            2023-05-30          271  "
      ]
     },
     "execution_count": 18,
     "metadata": {},
     "output_type": "execute_result"
    }
   ],
   "source": [
    "#Adding column to capture length of the study as number of days.\n",
    "trials_df[\"StudyLength\"] = (trials_df[\"PrimaryCompletionDate\"] - trials_df[\"StartDate\"]).dt.days\n",
    "trials_df.head()"
   ]
  },
  {
   "cell_type": "code",
   "execution_count": null,
   "id": "09c0b03e-2ad0-4e08-9962-98ca5ecbd79b",
   "metadata": {},
   "outputs": [],
   "source": []
  },
  {
   "cell_type": "code",
   "execution_count": 19,
   "id": "d22543c8-a800-4ee5-bb8c-4420c08f0f35",
   "metadata": {},
   "outputs": [],
   "source": [
    "#df.sort_values(\"study_length\") and df.sort_values(\"study_length\", ascedning=False) for descending values\n",
    "#sort by mutliple values here, study length and number enrolled. df.sort_values([\"study_length\", \"enrollment\"])\n",
    "#can subset columns by saying df[\"columnName\"] or multiple columns via df[[\"columnName1\", \"columnName2\"]] May want to do this to create a new df ad remove irrelevant columns\n",
    "#can subset rows with a condition like df[df[\"enrollment\"] > 50] or df[df[\"condition\"] == \"cancer\"] to see if any additional information of interest"
   ]
  },
  {
   "cell_type": "code",
   "execution_count": null,
   "id": "f19db152-4db4-4c90-afad-cfbeb715c63b",
   "metadata": {},
   "outputs": [],
   "source": []
  }
 ],
 "metadata": {
  "kernelspec": {
   "display_name": "Python 3 (ipykernel)",
   "language": "python",
   "name": "python3"
  },
  "language_info": {
   "codemirror_mode": {
    "name": "ipython",
    "version": 3
   },
   "file_extension": ".py",
   "mimetype": "text/x-python",
   "name": "python",
   "nbconvert_exporter": "python",
   "pygments_lexer": "ipython3",
   "version": "3.10.9"
  }
 },
 "nbformat": 4,
 "nbformat_minor": 5
}
